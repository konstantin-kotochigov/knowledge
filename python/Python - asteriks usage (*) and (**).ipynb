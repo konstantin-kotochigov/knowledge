{
 "cells": [
  {
   "cell_type": "markdown",
   "metadata": {},
   "source": [
    "Several usages of * and ** in Python\n",
    "1. list unpacking\n",
    "```python\n",
    "l = [**l1, **l2]\n",
    "```\n",
    "2. dict unpacking\n",
    "```python\n",
    "d = {**d1, **d2}\n",
    "```\n",
    "3. Arguments packing\n",
    "\n",
    "    Unpacking value arguments in a list\n",
    "```python\n",
    "def f(*args):\n",
    "  ...\n",
    "```\n",
    "\n",
    "    Unpacking Key-Value arguments in a dict\n",
    "```python\n",
    "def f(**kwargs):\n",
    "  ...\n",
    "```\n",
    "\n"
   ]
  }
 ],
 "metadata": {
  "kernelspec": {
   "display_name": "Python 3",
   "language": "python",
   "name": "python3"
  },
  "language_info": {
   "codemirror_mode": {
    "name": "ipython",
    "version": 3
   },
   "file_extension": ".py",
   "mimetype": "text/x-python",
   "name": "python",
   "nbconvert_exporter": "python",
   "pygments_lexer": "ipython3",
   "version": "3.7.6"
  }
 },
 "nbformat": 4,
 "nbformat_minor": 4
}
