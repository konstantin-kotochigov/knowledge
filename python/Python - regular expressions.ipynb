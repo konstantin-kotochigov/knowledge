{
 "cells": [
  {
   "cell_type": "markdown",
   "metadata": {},
   "source": [
    "Pattern quantifier\n",
    "\n",
    "|quantifier|description|\n",
    "|:---|:---|\n",
    "|{m,n} | repeats from m to n times|\n",
    "|?| optinal - 0 or 1 times|\n",
    "|* | 0 or many times|\n",
    "|+| 1 or more times|"
   ]
  },
  {
   "cell_type": "markdown",
   "metadata": {},
   "source": [
    "### Patterns\n",
    "\n",
    "**.** = any symbol\n",
    "\n",
    "**^** = symbol denoting the beggining of the string\n",
    "\n",
    "**$** = symbol denoting the end of the string\n",
    "\n",
    "Custom sets\n",
    "- [abc] = a set of characters\n",
    "- [a-zA-Z] = a range of characters\n",
    "\n",
    "Some predefined sets\n",
    "\n",
    "- **\\d** = any digit\n",
    "- **\\s** = any space character\n",
    "- **\\w** = any word letter\n",
    "\n",
    "And their negations\n",
    "- **\\D** = all characters except digits\n",
    "- **\\S** = all characters except spaces\n",
    "- **\\W** = all characters except word letters\n"
   ]
  },
  {
   "cell_type": "markdown",
   "metadata": {},
   "source": [
    "### Combining patterns\n",
    "\n",
    "If A and B are patterns, then \n",
    "- AB is a pattern too\n",
    "- A|B is a pattern too"
   ]
  },
  {
   "cell_type": "markdown",
   "metadata": {},
   "source": [
    "### Implementation\n",
    "\n",
    "RE borrow a lot from formal language theory and because of that seems a bit complicated. Its also related to compliers theory in which formal languages are compiled into machine code.\n",
    "\n",
    "**NFA** (Non-deterministic Finite Automata) = on each step we move to multiple states (not one). Thus it actually generates a tree of possibilities. \n",
    "\n",
    "It is relevant to the context of regular expressions, because they could define multiple alternative conditions.\n",
    "\n",
    "Consists of steps:\n",
    "1. [Thomson Construction](https://en.wikipedia.org/wiki/Thompson%27s_construction) = the process of converting string representation to NFA\n",
    "2. Converting NFA to DFA using [powerset construction](https://en.wikipedia.org/wiki/Powerset_construction) and [minimization]()\n",
    "3. Applying DFA to imput string\n",
    "\n",
    "That's why there is a compile() method in Python regular expressions."
   ]
  },
  {
   "cell_type": "markdown",
   "metadata": {},
   "source": [
    "# Examples"
   ]
  },
  {
   "cell_type": "code",
   "execution_count": null,
   "metadata": {},
   "outputs": [],
   "source": []
  },
  {
   "cell_type": "markdown",
   "metadata": {},
   "source": [
    "<img  src=\"img/regex_email.gif\" width=500>"
   ]
  },
  {
   "cell_type": "markdown",
   "metadata": {},
   "source": [
    "### How to work with regular expressions\n",
    "\n",
    "Typical working schema with regular expressions:\n",
    "1. scan the string\n",
    "2. during the scan check for a match with a pattern\n",
    "3. If found, do something\n",
    "\n",
    "Some common actions:\n",
    "- check whether the string matches?\n",
    "- know how exactly and at what index it matches\n",
    "- remove a pttern from a string and split\n",
    "- substitute the pattern"
   ]
  },
  {
   "cell_type": "markdown",
   "metadata": {},
   "source": [
    "### Matching\n",
    "\n",
    "Checks for a match with a defined pattern in a string, if found, returns the answer\n",
    "\n",
    "If no patterns detected => Returns None\n",
    "As soon as pattern detected => returns Match\n",
    "\n",
    "- re.match() \n",
    "    \n",
    "  checks for a pattern (presumes the pattern is in the beggining of a string)\n",
    "\n",
    "\n",
    "- re.search() \n",
    "\n",
    "    checks for a pattern (in the whole string)"
   ]
  },
  {
   "cell_type": "markdown",
   "metadata": {},
   "source": [
    "### Extracting\n",
    "\n",
    "Seeks for a match with a defined pattern in a string and returns all matches\n",
    "\n",
    "- re.findall() \n",
    "    \n",
    "    returns the list of all patterns found\n",
    "\n",
    "\n",
    "- re.finditer() \n",
    "\n",
    "    does the same thing but returns an iterator"
   ]
  },
  {
   "cell_type": "markdown",
   "metadata": {},
   "source": [
    "### Splitting\n",
    "\n",
    "Splits the string using defined patterns as separators\n",
    "\n",
    "- re.split()\n",
    "\n",
    "    returns a list of tokens\n",
    "\n",
    "Common application here is the tokenization process during text processing."
   ]
  },
  {
   "cell_type": "markdown",
   "metadata": {},
   "source": [
    "### Substituting\n",
    "\n",
    "re.sub() - returns a new string with patterns substituted by a string\n",
    "\n",
    "re.subn() - does the same but also returns number of substitutions"
   ]
  },
  {
   "cell_type": "code",
   "execution_count": null,
   "metadata": {},
   "outputs": [],
   "source": []
  },
  {
   "cell_type": "code",
   "execution_count": null,
   "metadata": {},
   "outputs": [],
   "source": []
  },
  {
   "cell_type": "markdown",
   "metadata": {},
   "source": [
    "groups"
   ]
  }
 ],
 "metadata": {
  "kernelspec": {
   "display_name": "Python 3",
   "language": "python",
   "name": "python3"
  },
  "language_info": {
   "codemirror_mode": {
    "name": "ipython",
    "version": 3
   },
   "file_extension": ".py",
   "mimetype": "text/x-python",
   "name": "python",
   "nbconvert_exporter": "python",
   "pygments_lexer": "ipython3",
   "version": "3.7.6"
  }
 },
 "nbformat": 4,
 "nbformat_minor": 4
}
