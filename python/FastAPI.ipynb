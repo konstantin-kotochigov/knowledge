{
 "cells": [
  {
   "cell_type": "markdown",
   "metadata": {},
   "source": [
    "# FastAPI"
   ]
  },
  {
   "cell_type": "markdown",
   "metadata": {},
   "source": [
    "### Aynchronous processing\n",
    "\n",
    "If do_someth() is long to execute, it will unnecessarilty block all other requests.\n",
    "You can prevent from blocking by using await:\n",
    "\n",
    "```python\n",
    "result = await do_someth()\n",
    "```\n",
    "\n",
    "The function must be async:\n",
    "\n",
    "```python\n",
    "async def do_someth():\n",
    "    return result\n",
    "```\n",
    "\n",
    "Another way of doing it:\n",
    "- BackgroundTasks\n",
    "\n",
    "## Case\n",
    "Intertesting example = OCR service that parses text on the image.\n",
    "- Subcase 1 = parse one image using OCR library\n",
    "- Subcase 2 = parse a list of images and display the process status using Ajax\n",
    "\n",
    "Another Idea = online translator."
   ]
  }
 ],
 "metadata": {
  "kernelspec": {
   "display_name": "Python 3",
   "language": "python",
   "name": "python3"
  },
  "language_info": {
   "codemirror_mode": {
    "name": "ipython",
    "version": 3
   },
   "file_extension": ".py",
   "mimetype": "text/x-python",
   "name": "python",
   "nbconvert_exporter": "python",
   "pygments_lexer": "ipython3",
   "version": "3.7.6"
  }
 },
 "nbformat": 4,
 "nbformat_minor": 4
}
