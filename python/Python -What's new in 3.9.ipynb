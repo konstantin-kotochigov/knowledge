{
 "cells": [
  {
   "cell_type": "markdown",
   "metadata": {},
   "source": [
    "What's new in Python 3.9\n",
    "\n",
    "- New dictionary merging\n",
    "\n",
    "    **Used to be:** {**dict1, **dict2}\n",
    "\n",
    "    **Now:** dict = dict1 | dict2\n",
    "\n",
    "\n",
    "- Type Hinting\n",
    "\n",
    "\n",
    "- New string functions\n",
    "    - removeprefox()\n",
    "    - removesuffix()\n",
    "\n",
    "\n",
    "- New dictionaries of http response statuses \n",
    "\n",
    "    Httpstatus\n",
    "\n",
    "\n",
    "- math.НОК"
   ]
  }
 ],
 "metadata": {
  "kernelspec": {
   "display_name": "Python 3",
   "language": "python",
   "name": "python3"
  },
  "language_info": {
   "codemirror_mode": {
    "name": "ipython",
    "version": 3
   },
   "file_extension": ".py",
   "mimetype": "text/x-python",
   "name": "python",
   "nbconvert_exporter": "python",
   "pygments_lexer": "ipython3",
   "version": "3.7.6"
  }
 },
 "nbformat": 4,
 "nbformat_minor": 4
}
