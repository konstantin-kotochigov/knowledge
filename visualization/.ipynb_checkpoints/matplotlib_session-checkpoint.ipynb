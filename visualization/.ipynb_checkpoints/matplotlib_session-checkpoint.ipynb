{
 "cells": [
  {
   "cell_type": "code",
   "execution_count": 1,
   "metadata": {
    "ExecuteTime": {
     "end_time": "2020-09-28T00:23:16.511300Z",
     "start_time": "2020-09-28T00:23:15.628428Z"
    }
   },
   "outputs": [],
   "source": [
    "import matplotlib.pyplot as plt\n",
    "import numpy"
   ]
  },
  {
   "cell_type": "code",
   "execution_count": null,
   "metadata": {
    "ExecuteTime": {
     "end_time": "2020-09-27T18:52:39.268698Z",
     "start_time": "2020-09-27T18:52:39.166478Z"
    }
   },
   "outputs": [],
   "source": [
    "plt.barh(['x','y','z'],[5,7,6])"
   ]
  },
  {
   "cell_type": "code",
   "execution_count": null,
   "metadata": {
    "ExecuteTime": {
     "end_time": "2020-09-27T19:06:02.729015Z",
     "start_time": "2020-09-27T19:06:02.510478Z"
    }
   },
   "outputs": [],
   "source": [
    "plt.figure(figsize=(50,10))\n",
    "fig,ax=plt.subplots(nrows=1, ncols=2)\n",
    "\n",
    "\n",
    "# ax[0].barh(['a','b','c','d','e'],[3,1,5,2,3])\n",
    "# ax[1].bar(['x','y','z'],[5,7,6])\n",
    "\n",
    "ax.bar(['x','y','z'],[5,7,6])"
   ]
  },
  {
   "cell_type": "code",
   "execution_count": null,
   "metadata": {
    "ExecuteTime": {
     "end_time": "2020-09-27T19:07:40.401809Z",
     "start_time": "2020-09-27T19:07:40.287363Z"
    }
   },
   "outputs": [],
   "source": [
    "# fig,ax=plt.subplots()\n",
    "plt.figure(figsize=(5,5))\n",
    "plt.barh(['a','b','c','d','e'],[3,1,5,2,3])\n",
    "\n",
    "# fig,ax=plt.subplots()\n",
    "plt.figure(figsize=(5,5))\n",
    "plt.barh(['a','b','c','d','e'],[3,1,5,2,3], )"
   ]
  },
  {
   "cell_type": "code",
   "execution_count": null,
   "metadata": {
    "ExecuteTime": {
     "end_time": "2020-09-27T19:57:25.304773Z",
     "start_time": "2020-09-27T19:57:25.170825Z"
    }
   },
   "outputs": [],
   "source": [
    "# fig,ax=plt.subplots()\n",
    "plt.figure(figsize=(5,5))\n",
    "plt.barh(['a','b','c','d','e'],[3,1,5,2,3])\n",
    "plt.grid()"
   ]
  },
  {
   "cell_type": "code",
   "execution_count": null,
   "metadata": {
    "ExecuteTime": {
     "end_time": "2020-09-27T19:26:37.374399Z",
     "start_time": "2020-09-27T19:26:37.369530Z"
    }
   },
   "outputs": [],
   "source": [
    "import numpy.random"
   ]
  },
  {
   "cell_type": "markdown",
   "metadata": {},
   "source": [
    "### Line plots"
   ]
  },
  {
   "cell_type": "code",
   "execution_count": null,
   "metadata": {
    "ExecuteTime": {
     "end_time": "2020-09-27T23:33:38.853543Z",
     "start_time": "2020-09-27T23:33:38.424187Z"
    }
   },
   "outputs": [],
   "source": [
    "# Simple plot\n",
    "y=numpy.random.uniform(10,25,20)\n",
    "plt.plot(y)\n",
    "\n",
    "# Plot x,y\n",
    "x=list(range(20))\n",
    "y=numpy.random.uniform(10,25,20)\n",
    "plt.plot(x,y)\n",
    "\n",
    "# Use labels\n",
    "x=['x1','x2','x3','x4','x5','x6','x7','x8','x9','x10','x11','x12','x13','x14','x15','x16','x17','x18','x19','x20']\n",
    "y=numpy.random.uniform(10,25,20)\n",
    "plt.plot(x,y)\n",
    "\n",
    "# Define formats\n",
    "x=list(range(20))\n",
    "y=numpy.random.uniform(10,25,20)\n",
    "plt.plot(x,y,'x-r')\n",
    "\n",
    "# Define line parameters\n",
    "x=list(range(20))\n",
    "y=numpy.random.uniform(10,25,20)\n",
    "plt.plot(x,y, color='red')\n",
    "\n",
    "# Plot several lines\n",
    "x=list(range(20))\n",
    "y1=numpy.random.uniform(10,25,20)\n",
    "y2=numpy.random.uniform(10,25,20)\n",
    "y3=numpy.random.uniform(10,25,20)\n",
    "plt.plot(x,y1, color='red')\n",
    "plt.plot(x,y2, color='blue')\n",
    "plt.plot(x,y3, color='green')\n",
    "\n",
    "# Plot several lines\n",
    "x=list(range(20))\n",
    "y1=numpy.random.uniform(10,25,20) + 5\n",
    "y2=numpy.random.uniform(10,25,20) + 10\n",
    "y3=numpy.random.uniform(10,25,20) + 15\n",
    "plt.plot(x,y1,'r',x,y2,'b',x,y3,'g')\n",
    "\n",
    "# Add legend\n",
    "x=list(range(20))\n",
    "y1=numpy.random.uniform(10,25,20) + 5\n",
    "y2=numpy.random.uniform(10,25,20) + 10\n",
    "y3=numpy.random.uniform(10,25,20) + 15\n",
    "plt.plot(x,y1, color='red', label = 'red series')\n",
    "plt.plot(x,y2, color='blue', label = 'blue series')\n",
    "plt.plot(x,y3, color='green', label = 'green series')\n",
    "plt.legend()\n",
    "\n",
    "# Choose optimal location for legend\n",
    "x=list(range(20))\n",
    "y1=numpy.random.uniform(10,25,20) + 5\n",
    "y2=numpy.random.uniform(10,25,20) + 10\n",
    "y3=numpy.random.uniform(10,25,20) + 15\n",
    "plt.plot(x,y1, color='red', label = 'red series')\n",
    "plt.plot(x,y2, color='blue', label = 'blue series')\n",
    "plt.plot(x,y3, color='green', label = 'green series')\n",
    "plt.legend(loc='best')\n",
    "\n",
    "# Add custom labels\n",
    "x=list(range(20))\n",
    "y1=numpy.random.uniform(10,25,20) + 5\n",
    "y2=numpy.random.uniform(10,25,20) + 10\n",
    "y3=numpy.random.uniform(10,25,20) + 15\n",
    "line1, = plt.plot(x,y1, color='red')\n",
    "line2, = plt.plot(x,y2, color='blue')\n",
    "line3, = plt.plot(x,y3, color='green')\n",
    "plt.legend(('x','y','z'))\n",
    "\n",
    "\n",
    "# Add custom labels and lines\n",
    "x=list(range(20))\n",
    "y1=numpy.random.uniform(10,25,20) + 5\n",
    "y2=numpy.random.uniform(10,25,20) + 10\n",
    "y3=numpy.random.uniform(10,25,20) + 15\n",
    "line1, = plt.plot(x,y1, color='red')\n",
    "line2, = plt.plot(x,y2, color='blue')\n",
    "line3, = plt.plot(x,y3, color='green')\n",
    "plt.legend((line1,line2),('custom label 1','custom label 2'))\n",
    "\n",
    "# Add legend parameters\n",
    "x=list(range(20))\n",
    "y1=numpy.random.uniform(10,25,20) + 5\n",
    "y2=numpy.random.uniform(10,25,20) + 10\n",
    "y3=numpy.random.uniform(10,25,20) + 15\n",
    "line1, = plt.plot(x,y1, color='red')\n",
    "line2, = plt.plot(x,y2, color='blue')\n",
    "line3, = plt.plot(x,y3, color='green')\n",
    "plt.legend(('x','y','z'), title='Legend', title_fontsize=12, facecolor='yellow', edgecolor='black', framealpha=0.2)\n",
    "\n",
    "# Add grid\n",
    "x=list(range(20))\n",
    "y1=numpy.random.uniform(10,25,20) + 5\n",
    "y2=numpy.random.uniform(10,25,20) + 10\n",
    "y3=numpy.random.uniform(10,25,20) + 15\n",
    "line1, = plt.plot(x, y1, color='red')\n",
    "line2, = plt.plot(x, y2, color='blue')\n",
    "line3, = plt.plot(x, y3, color='green')\n",
    "plt.grid(which='both', axis='both', alpha=0.25)\n",
    "\n",
    "# Define custom markers\n",
    "x=list(range(20))\n",
    "y1=numpy.random.uniform(10,25,20) + 5\n",
    "y2=numpy.random.uniform(10,25,20) + 10\n",
    "y3=numpy.random.uniform(10,25,20) + 15\n",
    "line1, = plt.plot(x,y1, color='red', marker='o')\n",
    "line2, = plt.plot(x,y2, color='blue',marker='x')\n",
    "line3, = plt.plot(x,y3, color='green',marker='.')\n",
    "plt.grid(which='both', alpha=0.25)\n",
    "\n",
    "# Set Axis Labels (through ax)\n",
    "plt.style.use('bmh')\n",
    "x=list(range(20))\n",
    "y1=numpy.random.uniform(10,25,20) + 5\n",
    "y2=numpy.random.uniform(10,25,20) + 10\n",
    "y3=numpy.random.uniform(10,25,20) + 15\n",
    "line1, = plt.plot(x, y1, color='red', label='line1')\n",
    "line2, = plt.plot(x, y2, color='blue', label='line2')\n",
    "line3, = plt.plot(x, y3, color='green', label='line3')\n",
    "plt.grid(which='both', axis='both', alpha=0.5)\n",
    "plt.gca().set_xlabel(\"X axis\")\n",
    "plt.gca().set_ylabel(\"Y axis\")\n",
    "plt.legend(facecolor='yellow', edgecolor='black', framealpha=0.25)\n",
    "\n",
    "# Set Axis Labels (through plt)\n",
    "plt.style.use('bmh')\n",
    "x=list(range(20))\n",
    "y1=numpy.random.uniform(10,25,20) + 5\n",
    "y2=numpy.random.uniform(10,25,20) + 10\n",
    "y3=numpy.random.uniform(10,25,20) + 15\n",
    "line1, = plt.plot(x, y1, color='red', label='line1')\n",
    "line2, = plt.plot(x, y2, color='blue', label='line2')\n",
    "line3, = plt.plot(x, y3, color='green', label='line3')\n",
    "plt.grid(which='both', axis='both', alpha=0.5)\n",
    "plt.xlabel(\"X axis\")\n",
    "plt.ylabel(\"Y axis\")\n",
    "plt.legend(facecolor='yellow', edgecolor='black', framealpha=0.25)\n",
    "\n",
    "# Customze Axis Labels\n",
    "x=list(range(20))\n",
    "y1=numpy.random.uniform(10,25,20) + 5\n",
    "y2=numpy.random.uniform(10,25,20) + 10\n",
    "y3=numpy.random.uniform(10,25,20) + 15\n",
    "line1, = plt.plot(x, y1, color='red', label='line1')\n",
    "line2, = plt.plot(x, y2, color='blue', label='line2')\n",
    "line3, = plt.plot(x, y3, color='green', label='line3')\n",
    "plt.grid(which='both', axis='both', alpha=0.5)\n",
    "plt.xlabel(\"X axis\", labelpad=20, fontsize=15, color='red')\n",
    "plt.ylabel(\"Y axis\", labelpad=20, fontsize=15, color='blue')\n",
    "\n",
    "\n",
    "\n",
    "\n",
    "# Set custom ticks\n",
    "x=list(range(20))\n",
    "y1=numpy.random.uniform(10,25,20) + 5\n",
    "y2=numpy.random.uniform(10,25,20) + 10\n",
    "y3=numpy.random.uniform(10,25,20) + 15\n",
    "line1, = plt.plot(x, y1, color='red', label='line1')\n",
    "line2, = plt.plot(x, y2, color='blue', label='line2')\n",
    "line3, = plt.plot(x, y3, color='green', label='line3')\n",
    "plt.grid(which='both', axis='both', alpha=0.5)\n",
    "plt.xlabel(\"X axis\")\n",
    "plt.ylabel(\"Y axis\")\n",
    "plt.legend(facecolor='yellow', edgecolor='black', framealpha=0.25)\n",
    "plt.xticks([5,10,15])\n",
    "plt.yticks([20,20,30,31,32,33,34,35])\n",
    "\n",
    "# Set custom ticks (text and rotation)\n",
    "x=list(range(20))\n",
    "y1=numpy.random.uniform(10,25,20) + 5\n",
    "y2=numpy.random.uniform(10,25,20) + 10\n",
    "y3=numpy.random.uniform(10,25,20) + 15\n",
    "line1, = plt.plot(x, y1, color='red', label='line1')\n",
    "line2, = plt.plot(x, y2, color='blue', label='line2')\n",
    "line3, = plt.plot(x, y3, color='green', label='line3')\n",
    "plt.grid(which='both', axis='both', alpha=0.5)\n",
    "plt.xlabel(\"X axis\")\n",
    "plt.ylabel(\"Y axis\")\n",
    "plt.legend(facecolor='yellow', edgecolor='black', framealpha=0.25)\n",
    "plt.xticks([5,10,15],['low','medium','high'], rotation=20)\n",
    "plt.yticks([20,20,30,31,32,33,34,35])\n",
    "\n",
    "# Set custom ticks (size and labels)\n",
    "x=list(range(20))\n",
    "y1=numpy.random.uniform(10,25,20) + 5\n",
    "y2=numpy.random.uniform(10,25,20) + 10\n",
    "y3=numpy.random.uniform(10,25,20) + 15\n",
    "line1, = plt.plot(x, y1, color='red', label='line1')\n",
    "line2, = plt.plot(x, y2, color='blue', label='line2')\n",
    "line3, = plt.plot(x, y3, color='green', label='line3')\n",
    "plt.grid(which='both', axis='both', alpha=0.5)\n",
    "plt.xlabel(\"X axis\")\n",
    "plt.ylabel(\"Y axis\")\n",
    "plt.tick_params(axis='x', length=15, color='red', labelcolor='red', labelsize=15, pad=10)\n",
    "plt.tick_params(axis='y', length=35, color='blue', labelcolor='blue', labelsize=15, pad=10)\n",
    "\n",
    "# Use XKCD styling\n",
    "with plt.xkcd():\n",
    "  x=list(range(20))\n",
    "  y1=numpy.random.uniform(10,25,20) + 5\n",
    "  y2=numpy.random.uniform(10,25,20) + 10\n",
    "  y3=numpy.random.uniform(10,25,20) + 15\n",
    "  line1, = plt.plot(x, y1, color='red', label='line1')\n",
    "  line2, = plt.plot(x, y2, color='blue', label='line2')\n",
    "  line3, = plt.plot(x, y3, color='green', label='line3')\n",
    "  plt.grid(which='both', axis='both', alpha=0.5)\n",
    "  plt.xlabel(\"X axis\")\n",
    "  plt.ylabel(\"Y axis\")\n",
    "  plt.tick_params(axis='x', length=15, color='red', labelcolor='red', labelsize=15, pad=10)\n",
    "  plt.tick_params(axis='y', length=35, color='blue', labelcolor='blue', labelsize=15, pad=10)\n",
    "\n",
    "# Set and customize Title\n",
    "x=list(range(20))\n",
    "y1=numpy.random.uniform(10,25,20) + 5\n",
    "y2=numpy.random.uniform(10,25,20) + 10\n",
    "y3=numpy.random.uniform(10,25,20) + 15\n",
    "line1, = plt.plot(x, y1, color='red', label='line1')\n",
    "line2, = plt.plot(x, y2, color='blue', label='line2')\n",
    "line3, = plt.plot(x, y3, color='green', label='line3')\n",
    "plt.grid(which='both', axis='both', alpha=0.5)\n",
    "plt.xlabel(\"X axis\")\n",
    "plt.ylabel(\"Y axis\")\n",
    "plt.legend(facecolor='yellow', edgecolor='black', framealpha=0.25)\n",
    "plt.title(\"My super plot\", fontsize=10, loc='left', pad = 10, color=\"red\")\n",
    "\n",
    "\n",
    "\n"
   ]
  },
  {
   "cell_type": "code",
   "execution_count": null,
   "metadata": {
    "ExecuteTime": {
     "end_time": "2020-09-28T00:09:19.573227Z",
     "start_time": "2020-09-28T00:09:19.345611Z"
    }
   },
   "outputs": [],
   "source": [
    "# Generate Scatter Plot\n",
    "plt.scatter(\n",
    "    x = numpy.random.normal(0,1,25),\n",
    "    y = numpy.random.normal(0,1,25),\n",
    "    c = numpy.random.randint(0,5,25),\n",
    "    s = 50*numpy.random.randint(0,5,25),\n",
    "    edgecolor='black',\n",
    "    alpha=0.5)\n",
    "plt.grid(True, alpha=0.25)\n",
    "plt.colorbar()\n",
    "\n",
    "# Add Text Annotations\n",
    "import pandas as pd\n",
    "x = numpy.random.normal(0,1,25)\n",
    "y = numpy.random.normal(0,1,25)\n",
    "c = numpy.random.randint(0,5,25)\n",
    "s = 50*numpy.random.randint(0,5,25)\n",
    "df = pd.DataFrame({\"x\":x, \"y\":y, \"c\":c, \"s\":s})\n",
    "plt.scatter(\n",
    "    x=df.x,\n",
    "    y=df.y,\n",
    "    c=df.c,\n",
    "    s=df.s,\n",
    "    edgecolor='black',\n",
    "    alpha=0.5)\n",
    "plt.grid(True, alpha=0.25)\n",
    "plt.colorbar()\n",
    "for row_index, row in df.iterrows():\n",
    "    plt.text(row['x'], row['y'], str(row_index))\n",
    "    \n",
    "    "
   ]
  },
  {
   "cell_type": "code",
   "execution_count": 26,
   "metadata": {
    "ExecuteTime": {
     "end_time": "2020-09-28T00:30:09.305903Z",
     "start_time": "2020-09-28T00:30:09.148822Z"
    }
   },
   "outputs": [
    {
     "data": {
      "text/plain": [
       "(array([0.00740067, 0.01233445, 0.02713579, 0.09620869, 0.20968561,\n",
       "        0.2836923 , 0.3552321 , 0.44650701, 0.36756655, 0.25655652,\n",
       "        0.19981806, 0.11101003, 0.04933779, 0.02960267, 0.01480134]),\n",
       " array([-3.08667757, -2.68130879, -2.27594002, -1.87057125, -1.46520248,\n",
       "        -1.0598337 , -0.65446493, -0.24909616,  0.15627261,  0.56164139,\n",
       "         0.96701016,  1.37237893,  1.7777477 ,  2.18311648,  2.58848525,\n",
       "         2.99385402]),\n",
       " <a list of 15 Patch objects>)"
      ]
     },
     "execution_count": 26,
     "metadata": {},
     "output_type": "execute_result"
    },
    {
     "data": {
      "image/png": "[encoded data removed]",
      "text/plain": [
       "<Figure size 432x288 with 1 Axes>"
      ]
     },
     "metadata": {
      "needs_background": "light"
     },
     "output_type": "display_data"
    }
   ],
   "source": [
    "plt.hist(\n",
    "    # x = numpy.random.uniform(0,100,1000),\n",
    "    x = numpy.random.normal(0,1,1000),\n",
    "    bins=15,\n",
    "    edgecolor='white',\n",
    "    alpha=0.75,\n",
    "    density=True\n",
    "    )"
   ]
  },
  {
   "cell_type": "code",
   "execution_count": 78,
   "metadata": {
    "ExecuteTime": {
     "end_time": "2020-09-28T01:03:00.438852Z",
     "start_time": "2020-09-28T01:02:59.261381Z"
    }
   },
   "outputs": [
    {
     "data": {
      "image/png": "[encoded data removed]",
      "text/plain": [
       "<Figure size 432x288 with 1 Axes>"
      ]
     },
     "metadata": {
      "needs_background": "light"
     },
     "output_type": "display_data"
    },
    {
     "data": {
      "text/plain": [
       "<Figure size 10000x10000 with 0 Axes>"
      ]
     },
     "metadata": {},
     "output_type": "display_data"
    }
   ],
   "source": [
    "from sklearn.datasets import load_boston\n",
    "\n",
    "df_boston_all = load_boston()\n",
    "X = df_boston_all['data']\n",
    "y = df_boston_all['target']\n",
    "feature_names = df_boston_all['feature_names']\n",
    "\n",
    "df = pd.DataFrame(X, columns= feature_names)\n",
    "correlation_map = round(df.corr(),2).values\n",
    "\n",
    "fig, ax = plt.subplots()\n",
    "plt.figure(figsize=(20,20), dpi=500)\n",
    "\n",
    "plt.set_cmap(matplotlib.cm.get_cmap(name=\"Spectral\"))\n",
    "\n",
    "im = ax.imshow(correlation_map, aspect='auto')\n",
    "ax.set_xticks(np.arange(len(feature_names)))\n",
    "ax.set_yticks(np.arange(len(feature_names)))\n",
    "ax.set_xticklabels(feature_names)\n",
    "ax.set_yticklabels(feature_names)\n",
    "\n",
    "plt.setp(ax.get_xticklabels(), rotation=45, ha=\"right\",\n",
    "         rotation_mode=\"anchor\")\n",
    "\n",
    "for i in range(len(feature_names)):\n",
    "    for j in range(len(feature_names)):\n",
    "        text = ax.text(j, i, correlation_map[i, j],\n",
    "                       ha=\"center\", va=\"center\", color=\"w\", fontsize=10)\n",
    "\n",
    "fig.savefig(\"heatmap.png\", dpi=300, format='png')\n",
    "\n"
   ]
  },
  {
   "cell_type": "code",
   "execution_count": 61,
   "metadata": {
    "ExecuteTime": {
     "end_time": "2020-09-28T00:53:24.810857Z",
     "start_time": "2020-09-28T00:53:24.804572Z"
    }
   },
   "outputs": [
    {
     "data": {
      "text/plain": [
       "array([[ 1.        , -0.20046922,  0.40658341, -0.05589158,  0.42097171,\n",
       "        -0.2192467 ,  0.35273425, -0.37967009,  0.62550515,  0.58276431,\n",
       "         0.28994558, -0.38506394,  0.45562148],\n",
       "       [-0.20046922,  1.        , -0.53382819, -0.04269672, -0.51660371,\n",
       "         0.31199059, -0.56953734,  0.66440822, -0.31194783, -0.31456332,\n",
       "        -0.39167855,  0.17552032, -0.41299457],\n",
       "       [ 0.40658341, -0.53382819,  1.        ,  0.06293803,  0.76365145,\n",
       "        -0.39167585,  0.64477851, -0.70802699,  0.59512927,  0.72076018,\n",
       "         0.38324756, -0.35697654,  0.60379972],\n",
       "       [-0.05589158, -0.04269672,  0.06293803,  1.        ,  0.09120281,\n",
       "         0.09125123,  0.08651777, -0.09917578, -0.00736824, -0.03558652,\n",
       "        -0.12151517,  0.04878848, -0.0539293 ],\n",
       "       [ 0.42097171, -0.51660371,  0.76365145,  0.09120281,  1.        ,\n",
       "        -0.30218819,  0.7314701 , -0.76923011,  0.61144056,  0.6680232 ,\n",
       "         0.18893268, -0.38005064,  0.59087892],\n",
       "       [-0.2192467 ,  0.31199059, -0.39167585,  0.09125123, -0.30218819,\n",
       "         1.        , -0.24026493,  0.20524621, -0.20984667, -0.29204783,\n",
       "        -0.35550149,  0.12806864, -0.61380827],\n",
       "       [ 0.35273425, -0.56953734,  0.64477851,  0.08651777,  0.7314701 ,\n",
       "        -0.24026493,  1.        , -0.74788054,  0.45602245,  0.50645559,\n",
       "         0.26151501, -0.27353398,  0.60233853],\n",
       "       [-0.37967009,  0.66440822, -0.70802699, -0.09917578, -0.76923011,\n",
       "         0.20524621, -0.74788054,  1.        , -0.49458793, -0.53443158,\n",
       "        -0.23247054,  0.29151167, -0.49699583],\n",
       "       [ 0.62550515, -0.31194783,  0.59512927, -0.00736824,  0.61144056,\n",
       "        -0.20984667,  0.45602245, -0.49458793,  1.        ,  0.91022819,\n",
       "         0.46474118, -0.44441282,  0.48867633],\n",
       "       [ 0.58276431, -0.31456332,  0.72076018, -0.03558652,  0.6680232 ,\n",
       "        -0.29204783,  0.50645559, -0.53443158,  0.91022819,  1.        ,\n",
       "         0.46085304, -0.44180801,  0.54399341],\n",
       "       [ 0.28994558, -0.39167855,  0.38324756, -0.12151517,  0.18893268,\n",
       "        -0.35550149,  0.26151501, -0.23247054,  0.46474118,  0.46085304,\n",
       "         1.        , -0.1773833 ,  0.37404432],\n",
       "       [-0.38506394,  0.17552032, -0.35697654,  0.04878848, -0.38005064,\n",
       "         0.12806864, -0.27353398,  0.29151167, -0.44441282, -0.44180801,\n",
       "        -0.1773833 ,  1.        , -0.3660869 ],\n",
       "       [ 0.45562148, -0.41299457,  0.60379972, -0.0539293 ,  0.59087892,\n",
       "        -0.61380827,  0.60233853, -0.49699583,  0.48867633,  0.54399341,\n",
       "         0.37404432, -0.3660869 ,  1.        ]])"
      ]
     },
     "execution_count": 61,
     "metadata": {},
     "output_type": "execute_result"
    }
   ],
   "source": [
    "correlation_map.values"
   ]
  },
  {
   "cell_type": "code",
   "execution_count": 58,
   "metadata": {
    "ExecuteTime": {
     "end_time": "2020-09-28T00:52:45.230631Z",
     "start_time": "2020-09-28T00:52:44.899422Z"
    }
   },
   "outputs": [
    {
     "data": {
      "image/png": "[encoded data removed]",
      "text/plain": [
       "<Figure size 432x288 with 1 Axes>"
      ]
     },
     "metadata": {
      "needs_background": "light"
     },
     "output_type": "display_data"
    }
   ],
   "source": [
    "import numpy as np\n",
    "import matplotlib\n",
    "import matplotlib.pyplot as plt\n",
    "# sphinx_gallery_thumbnail_number = 2\n",
    "\n",
    "vegetables = [\"cucumber\", \"tomato\", \"lettuce\", \"asparagus\",\n",
    "              \"potato\", \"wheat\", \"barley\"]\n",
    "farmers = [\"Farmer Joe\", \"Upland Bros.\", \"Smith Gardening\",\n",
    "           \"Agrifun\", \"Organiculture\", \"BioGoods Ltd.\", \"Cornylee Corp.\"]\n",
    "\n",
    "harvest = np.array([[0.8, 2.4, 2.5, 3.9, 0.0, 4.0, 0.0],\n",
    "                    [2.4, 0.0, 4.0, 1.0, 2.7, 0.0, 0.0],\n",
    "                    [1.1, 2.4, 0.8, 4.3, 1.9, 4.4, 0.0],\n",
    "                    [0.6, 0.0, 0.3, 0.0, 3.1, 0.0, 0.0],\n",
    "                    [0.7, 1.7, 0.6, 2.6, 2.2, 6.2, 0.0],\n",
    "                    [1.3, 1.2, 0.0, 0.0, 0.0, 3.2, 5.1],\n",
    "                    [0.1, 2.0, 0.0, 1.4, 0.0, 1.9, 6.3]])\n",
    "\n",
    "\n",
    "fig, ax = plt.subplots()\n",
    "im = ax.imshow(harvest)\n",
    "\n",
    "ax.set_xticks(np.arange(len(farmers)))\n",
    "ax.set_yticks(np.arange(len(vegetables)))\n",
    "ax.set_xticklabels(farmers)\n",
    "ax.set_yticklabels(vegetables)\n",
    "\n",
    "# Rotate the tick labels and set their alignment.\n",
    "plt.setp(ax.get_xticklabels(), rotation=45, ha=\"right\",\n",
    "         rotation_mode=\"anchor\")\n",
    "\n",
    "# Loop over data dimensions and create text annotations.\n",
    "for i in range(len(vegetables)):\n",
    "    for j in range(len(farmers)):\n",
    "        text = ax.text(j, i, harvest[i, j],\n",
    "                       ha=\"center\", va=\"center\", color=\"w\")\n",
    "\n",
    "ax.set_title(\"Harvest of local farmers (in tons/year)\")\n",
    "fig.tight_layout()\n",
    "plt.show()\n"
   ]
  },
  {
   "cell_type": "code",
   "execution_count": 34,
   "metadata": {
    "ExecuteTime": {
     "end_time": "2020-09-28T00:41:57.468190Z",
     "start_time": "2020-09-28T00:41:57.349890Z"
    }
   },
   "outputs": [],
   "source": [
    "def heatmap(data, row_labels, col_labels, ax=None,\n",
    "            cbar_kw={}, cbarlabel=\"\", **kwargs):\n",
    "    \"\"\"\n",
    "    Create a heatmap from a numpy array and two lists of labels.\n",
    "\n",
    "    Parameters\n",
    "    ----------\n",
    "    data\n",
    "        A 2D numpy array of shape (N, M).\n",
    "    row_labels\n",
    "        A list or array of length N with the labels for the rows.\n",
    "    col_labels\n",
    "        A list or array of length M with the labels for the columns.\n",
    "    ax\n",
    "        A `matplotlib.axes.Axes` instance to which the heatmap is plotted.  If\n",
    "        not provided, use current axes or create a new one.  Optional.\n",
    "    cbar_kw\n",
    "        A dictionary with arguments to `matplotlib.Figure.colorbar`.  Optional.\n",
    "    cbarlabel\n",
    "        The label for the colorbar.  Optional.\n",
    "    **kwargs\n",
    "        All other arguments are forwarded to `imshow`.\n",
    "    \"\"\"\n",
    "\n",
    "    if not ax:\n",
    "        ax = plt.gca()\n",
    "\n",
    "    # Plot the heatmap\n",
    "    im = ax.imshow(data, **kwargs)\n",
    "\n",
    "    # Create colorbar\n",
    "    cbar = ax.figure.colorbar(im, ax=ax, **cbar_kw)\n",
    "    cbar.ax.set_ylabel(cbarlabel, rotation=-90, va=\"bottom\")\n",
    "\n",
    "    # We want to show all ticks...\n",
    "    ax.set_xticks(np.arange(data.shape[1]))\n",
    "    ax.set_yticks(np.arange(data.shape[0]))\n",
    "    # ... and label them with the respective list entries.\n",
    "    ax.set_xticklabels(col_labels)\n",
    "    ax.set_yticklabels(row_labels)\n",
    "\n",
    "    # Let the horizontal axes labeling appear on top.\n",
    "    ax.tick_params(top=True, bottom=False,\n",
    "                   labeltop=True, labelbottom=False)\n",
    "\n",
    "    # Rotate the tick labels and set their alignment.\n",
    "    plt.setp(ax.get_xticklabels(), rotation=-30, ha=\"right\",\n",
    "             rotation_mode=\"anchor\")\n",
    "\n",
    "    # Turn spines off and create white grid.\n",
    "    for edge, spine in ax.spines.items():\n",
    "        spine.set_visible(False)\n",
    "\n",
    "    ax.set_xticks(np.arange(data.shape[1]+1)-.5, minor=True)\n",
    "    ax.set_yticks(np.arange(data.shape[0]+1)-.5, minor=True)\n",
    "    ax.grid(which=\"minor\", color=\"w\", linestyle='-', linewidth=3)\n",
    "    ax.tick_params(which=\"minor\", bottom=False, left=False)\n",
    "\n",
    "    return im, cbar\n",
    "\n",
    "\n",
    "def annotate_heatmap(im, data=None, valfmt=\"{x:.2f}\",\n",
    "                     textcolors=[\"black\", \"white\"],\n",
    "                     threshold=None, **textkw):\n",
    "    \"\"\"\n",
    "    A function to annotate a heatmap.\n",
    "\n",
    "    Parameters\n",
    "    ----------\n",
    "    im\n",
    "        The AxesImage to be labeled.\n",
    "    data\n",
    "        Data used to annotate.  If None, the image's data is used.  Optional.\n",
    "    valfmt\n",
    "        The format of the annotations inside the heatmap.  This should either\n",
    "        use the string format method, e.g. \"$ {x:.2f}\", or be a\n",
    "        `matplotlib.ticker.Formatter`.  Optional.\n",
    "    textcolors\n",
    "        A list or array of two color specifications.  The first is used for\n",
    "        values below a threshold, the second for those above.  Optional.\n",
    "    threshold\n",
    "        Value in data units according to which the colors from textcolors are\n",
    "        applied.  If None (the default) uses the middle of the colormap as\n",
    "        separation.  Optional.\n",
    "    **kwargs\n",
    "        All other arguments are forwarded to each call to `text` used to create\n",
    "        the text labels.\n",
    "    \"\"\"\n",
    "\n",
    "    if not isinstance(data, (list, np.ndarray)):\n",
    "        data = im.get_array()\n",
    "\n",
    "    # Normalize the threshold to the images color range.\n",
    "    if threshold is not None:\n",
    "        threshold = im.norm(threshold)\n",
    "    else:\n",
    "        threshold = im.norm(data.max())/2.\n",
    "\n",
    "    # Set default alignment to center, but allow it to be\n",
    "    # overwritten by textkw.\n",
    "    kw = dict(horizontalalignment=\"center\",\n",
    "              verticalalignment=\"center\")\n",
    "    kw.update(textkw)\n",
    "\n",
    "    # Get the formatter in case a string is supplied\n",
    "    if isinstance(valfmt, str):\n",
    "        valfmt = matplotlib.ticker.StrMethodFormatter(valfmt)\n",
    "\n",
    "    # Loop over the data and create a `Text` for each \"pixel\".\n",
    "    # Change the text's color depending on the data.\n",
    "    texts = []\n",
    "    for i in range(data.shape[0]):\n",
    "        for j in range(data.shape[1]):\n",
    "            kw.update(color=textcolors[int(im.norm(data[i, j]) > threshold)])\n",
    "            text = im.axes.text(j, i, valfmt(data[i, j], None), **kw)\n",
    "            texts.append(text)\n",
    "\n",
    "    return texts\n"
   ]
  },
  {
   "cell_type": "code",
   "execution_count": null,
   "metadata": {
    "ExecuteTime": {
     "end_time": "2020-09-27T23:47:31.971260Z",
     "start_time": "2020-09-27T23:47:31.840017Z"
    }
   },
   "outputs": [],
   "source": []
  },
  {
   "cell_type": "code",
   "execution_count": null,
   "metadata": {
    "ExecuteTime": {
     "end_time": "2020-09-28T00:20:17.556081Z",
     "start_time": "2020-09-28T00:20:17.334153Z"
    }
   },
   "outputs": [],
   "source": []
  },
  {
   "cell_type": "code",
   "execution_count": null,
   "metadata": {
    "ExecuteTime": {
     "end_time": "2020-09-27T20:05:21.513806Z",
     "start_time": "2020-09-27T20:05:21.332317Z"
    }
   },
   "outputs": [],
   "source": []
  },
  {
   "cell_type": "code",
   "execution_count": null,
   "metadata": {},
   "outputs": [],
   "source": []
  },
  {
   "cell_type": "code",
   "execution_count": null,
   "metadata": {
    "ExecuteTime": {
     "end_time": "2020-09-27T19:33:25.918584Z",
     "start_time": "2020-09-27T19:33:25.706019Z"
    }
   },
   "outputs": [],
   "source": []
  }
 ],
 "metadata": {
  "kernelspec": {
   "display_name": "Python 3",
   "language": "python",
   "name": "python3"
  },
  "language_info": {
   "codemirror_mode": {
    "name": "ipython",
    "version": 3
   },
   "file_extension": ".py",
   "mimetype": "text/x-python",
   "name": "python",
   "nbconvert_exporter": "python",
   "pygments_lexer": "ipython3",
   "version": "3.7.6"
  },
  "varInspector": {
   "cols": {
    "lenName": 16,
    "lenType": 16,
    "lenVar": 40
   },
   "kernels_config": {
    "python": {
     "delete_cmd_postfix": "",
     "delete_cmd_prefix": "del ",
     "library": "var_list.py",
     "varRefreshCmd": "print(var_dic_list())"
    },
    "r": {
     "delete_cmd_postfix": ") ",
     "delete_cmd_prefix": "rm(",
     "library": "var_list.r",
     "varRefreshCmd": "cat(var_dic_list()) "
    }
   },
   "types_to_exclude": [
    "module",
    "function",
    "builtin_function_or_method",
    "instance",
    "_Feature"
   ],
   "window_display": false
  }
 },
 "nbformat": 4,
 "nbformat_minor": 4
}
