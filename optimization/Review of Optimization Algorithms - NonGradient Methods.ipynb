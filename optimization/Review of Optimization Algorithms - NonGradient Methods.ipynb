{
 "cells": [
  {
   "cell_type": "markdown",
   "metadata": {},
   "source": [
    "# Non-gradient methods\n",
    "\n",
    "### Nelder-Mead algorithm\n",
    "\n",
    "Nelder-Mead (1965) algorithm is a numeric derivative-free algorithm.\n",
    "\n",
    "Informally algorithm can be expressed in the following steps:\n",
    "1. Try a new point in direction of descent\n",
    "2. If it'ts good => contract the simplex\n",
    "3. If its the best => try a little further and contract the simplex\n",
    "4. If it's bad => try inside a simplex, if successful => contract the simplex\n",
    "5. If it's the worst => shrink the simplex excliding the best point\n",
    "\n",
    "### Hook-Jeeves algorithm\n",
    "\n",
    "Hook-Geeves algorithm is a simple algorithm"
   ]
  }
 ],
 "metadata": {
  "kernelspec": {
   "display_name": "Python 3",
   "language": "python",
   "name": "python3"
  },
  "language_info": {
   "codemirror_mode": {
    "name": "ipython",
    "version": 3
   },
   "file_extension": ".py",
   "mimetype": "text/x-python",
   "name": "python",
   "nbconvert_exporter": "python",
   "pygments_lexer": "ipython3",
   "version": "3.7.6"
  },
  "varInspector": {
   "cols": {
    "lenName": 16,
    "lenType": 16,
    "lenVar": 40
   },
   "kernels_config": {
    "python": {
     "delete_cmd_postfix": "",
     "delete_cmd_prefix": "del ",
     "library": "var_list.py",
     "varRefreshCmd": "print(var_dic_list())"
    },
    "r": {
     "delete_cmd_postfix": ") ",
     "delete_cmd_prefix": "rm(",
     "library": "var_list.r",
     "varRefreshCmd": "cat(var_dic_list()) "
    }
   },
   "types_to_exclude": [
    "module",
    "function",
    "builtin_function_or_method",
    "instance",
    "_Feature"
   ],
   "window_display": false
  }
 },
 "nbformat": 4,
 "nbformat_minor": 4
}
