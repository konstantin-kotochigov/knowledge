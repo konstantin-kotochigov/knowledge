{
 "cells": [
  {
   "cell_type": "markdown",
   "metadata": {},
   "source": [
    "Nice book here: https://web.stanford.edu/~boyd/cvxbook/bv_cvxbook.pdf\n",
    "\n",
    "__Constrained__ = there is a set of constraints (equality or ineuality)\n",
    "\n",
    "__Unconstrained__ = no constraints applied\n",
    "\n",
    "__Convex__ = optimization of a convex function with a convex constrains\n",
    "\n",
    "__Convex set__ = all segments in the set reside inside the set (strictly convex = reside strictly inside)\n",
    "Examples of non-convex sets\n",
    "<img src=\"img/nonconvex_sets.png\" width=300>\n",
    "\n",
    "\n",
    "\n",
    "__Convex function__ = all segments between any two points lie above the function\n",
    "\n",
    "\n",
    "\n",
    "<img src = \"img/convex_function.png\" width=500>\n",
    "\n",
    "Special cases:\n",
    "- linear programming\n",
    "- quadratic\n",
    "\n",
    "Why convexity is an important propetry?\n",
    "Beacuse conditions for optimums can be formulated with tangent spaces\n",
    "\n",
    "Two main methods in convex constrained optimization\n",
    "1. Lagrange Multiplers\n",
    "2. KKT method\n",
    "\n",
    "Principle: convert constrained to unconstrained formulation => solve analytically\n",
    "\n"
   ]
  },
  {
   "cell_type": "markdown",
   "metadata": {},
   "source": [
    "## Lagrange Multipliers\n",
    "\n",
    "__Key principle:__ in order to achieve optimum of F(x) the gradient of F(x) must be othogonal to constraint g(x)\n",
    "\n",
    "<img src=\"img/lagrange1.png\" width=350>\n",
    "\n",
    "__Motivation:__ if gradient is slanted, there is an option to move along the constraint in the direction of a gradient and get a better solution.\n",
    "\n",
    "\n",
    "We convert (n-1) dimensional g(x) = 0 to n-dimensional surface g(x) and introduce scaling variable (lagrange multiplier)\n",
    "\n",
    "$$L(x,\\lambda) = f(x) + \\lambda g(x) \\rightarrow \\min$$\n",
    "$$g(x) = 0$$\n",
    "\n",
    "Another way to interpret g(x) is like a penalty function"
   ]
  },
  {
   "cell_type": "code",
   "execution_count": null,
   "metadata": {},
   "outputs": [],
   "source": []
  },
  {
   "cell_type": "code",
   "execution_count": null,
   "metadata": {},
   "outputs": [],
   "source": [
    "Dual problem\n",
    "\n"
   ]
  },
  {
   "cell_type": "code",
   "execution_count": null,
   "metadata": {},
   "outputs": [],
   "source": []
  }
 ],
 "metadata": {
  "kernelspec": {
   "display_name": "Python 3",
   "language": "python",
   "name": "python3"
  },
  "language_info": {
   "codemirror_mode": {
    "name": "ipython",
    "version": 3
   },
   "file_extension": ".py",
   "mimetype": "text/x-python",
   "name": "python",
   "nbconvert_exporter": "python",
   "pygments_lexer": "ipython3",
   "version": "3.7.6"
  }
 },
 "nbformat": 4,
 "nbformat_minor": 4
}
