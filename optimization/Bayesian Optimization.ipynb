{
 "cells": [
  {
   "cell_type": "markdown",
   "metadata": {},
   "source": [
    "__Задача:__ найти комбинацию входных параметров модели, оптимизирующую её выход (некую метрику качества), не имея доступ непосредственно к модели (Blackbox Model)\n",
    "\n",
    "Иными словами понять, как ведет себя модель и найти там оптимум\n",
    "\n",
    "PS Если можем подключить какое-то знание о модели (градиент, выпуклость), это уже классическая оптимизация\n",
    "\n",
    "В начале всегда Exploration - собираем знание по модели, выстраиваем примерный ландшафт метрики\n",
    "\n",
    "Подходы:\n",
    "- Grid Search\n",
    "- Random Search\n",
    "- Quasi-random Search\n",
    "\n",
    "Далее можно подключать Exploitation - смотрим больше там, где больше потенциал\n",
    "\n",
    "Стохастические методы\n",
    "- генетические\n",
    "- simulated annealing\n",
    "\n",
    "Если сделать предположение о виде целевой функции, то можно сформулировать в терминах Баейсовской постановки:\n",
    "- prior = текущее знание о распределении метрики\n",
    "- likelihood = апдейт\n",
    "- aposteriory = новое знание\n",
    "\n",
    "<img src=\"img/scheme1.png\" width=600>\n",
    "\n",
    "<img src=\"img/scheme2.png\" width=600>\n",
    "\n",
    "Рассматриваются две функции от X:\n",
    "- Surrogate Function = текущая оценка целевой функции\n",
    "- Acquisition Function = текущая оценка (среднее) + разброс\n",
    "\n",
    "ACQ = exploitation и exploration"
   ]
  },
  {
   "cell_type": "code",
   "execution_count": null,
   "metadata": {},
   "outputs": [],
   "source": [
    "Choices for Acquisition Function\n",
    "1. UCB upper confidence bound\n",
    "2. Improvement Probability\n",
    "3. Expected Improvement\n",
    "\n"
   ]
  }
 ],
 "metadata": {
  "kernelspec": {
   "display_name": "Python 3",
   "language": "python",
   "name": "python3"
  },
  "language_info": {
   "codemirror_mode": {
    "name": "ipython",
    "version": 3
   },
   "file_extension": ".py",
   "mimetype": "text/x-python",
   "name": "python",
   "nbconvert_exporter": "python",
   "pygments_lexer": "ipython3",
   "version": "3.7.6"
  }
 },
 "nbformat": 4,
 "nbformat_minor": 4
}
