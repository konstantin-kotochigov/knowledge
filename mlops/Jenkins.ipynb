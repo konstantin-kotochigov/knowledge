{
 "cells": [
  {
   "cell_type": "markdown",
   "metadata": {},
   "source": [
    "**Jenkins** is an automation tool which purpose is to facilitate building, testing and deploying code in development cycle. It helps provide CI/CD for development process.\n",
    "\n",
    "\n",
    "\n",
    "\n"
   ]
  },
  {
   "cell_type": "markdown",
   "metadata": {},
   "source": [
    "## Architecture\n",
    "Jenkins works on Master-Slave architecture\n",
    "- Master = Java process\n",
    "- Agents = Java process that does something on remote nodes\n",
    "\n",
    "Master communicates with agents via SSH"
   ]
  },
  {
   "cell_type": "markdown",
   "metadata": {},
   "source": [
    "## Plugins\n",
    "\n",
    "Jenkins heavily relies on plugins.\n",
    "\n",
    "Some useful Plugins\n",
    "- git\n",
    "        for working with GIT\n",
    "- \n",
    "- stageView\n",
    "        for convenient visualization\n",
    "- greenBalls\n",
    "        colors successful runs with green insteqad of blue\n",
    "- chuckNorris\n",
    "        prints chuck norris for sucessful runs\n",
    "\n",
    "<img src=\"img/stageview.png\" width=700>"
   ]
  }
 ],
 "metadata": {
  "kernelspec": {
   "display_name": "Python 3",
   "language": "python",
   "name": "python3"
  },
  "language_info": {
   "codemirror_mode": {
    "name": "ipython",
    "version": 3
   },
   "file_extension": ".py",
   "mimetype": "text/x-python",
   "name": "python",
   "nbconvert_exporter": "python",
   "pygments_lexer": "ipython3",
   "version": "3.7.6"
  }
 },
 "nbformat": 4,
 "nbformat_minor": 4
}
