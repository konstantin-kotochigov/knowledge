{
 "cells": [
  {
   "cell_type": "markdown",
   "metadata": {},
   "source": [
    "CI/CD is all about automation.\n",
    "\n",
    "Three pillars of CI/CD\n",
    "- Continuous Integration - new commits are automatically built, tested and packaged\n",
    "- Continuous Delivery - moving to STAGE\n",
    "- Continuous Deployment - moving to any environment\n",
    "Difference between Delivery and Deployment is vague.\n",
    "\n",
    "Pipelines can even move to PROD (though it's rare) after testing on each environment.\n",
    "\n",
    "<img src=\"img/cicd.jpeg\" width=750>\n",
    "\n",
    "Factors that drive the importance of CI/CD:\n",
    "- number of develpers\n",
    "- number of projects\n",
    "- number of evironments\n",
    "\n",
    "#### Coparison of popular CI/CD tools\n",
    "\n",
    "|Tool|$|pipeline configuration|\n",
    "|:-:|:-:|:-:|\n",
    "|Jenkins|open-source|groovy|\n",
    "|GitLab||yaml|\n",
    "|Bamboo||Java|\n",
    "|TeamCity|||\n"
   ]
  }
 ],
 "metadata": {
  "kernelspec": {
   "display_name": "Python 3",
   "language": "python",
   "name": "python3"
  },
  "language_info": {
   "codemirror_mode": {
    "name": "ipython",
    "version": 3
   },
   "file_extension": ".py",
   "mimetype": "text/x-python",
   "name": "python",
   "nbconvert_exporter": "python",
   "pygments_lexer": "ipython3",
   "version": "3.7.6"
  }
 },
 "nbformat": 4,
 "nbformat_minor": 4
}
