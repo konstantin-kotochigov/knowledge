{
 "cells": [
  {
   "cell_type": "markdown",
   "metadata": {},
   "source": [
    "### GIT"
   ]
  },
  {
   "cell_type": "markdown",
   "metadata": {},
   "source": [
    "### Git Hooks\n",
    "\n",
    "You can define a number of callbacks (hooks) that gonna be run whenever some trigger is fired\n",
    "\n",
    "Possible triggers:\n",
    "- pre-commit\n",
    "- post-commit\n",
    "- pre-push\n",
    "- post-push\n",
    "\n",
    "Where do the hooks reside:\n",
    "- .git - internal git files\n",
    "- .git/hooks - callback scripts\n",
    "\n",
    "There is a number of samples already prepacked.\n",
    "\n",
    "To enable a hook just put a script with corresponding name (or rename an example).\n",
    "\n",
    "**NOTE** This directory is local, it won't go to global repo.\n",
    "\n",
    "Scripts use arguments sys.argv[1] and return values (non-zero => the process stops)\n",
    "\n",
    "Scripts could be:\n",
    "  - bash\n",
    "  - python\n",
    "  - go\n",
    "\n",
    "<img src=\"img/dev_process.png\" width=750>\n",
    "\n",
    "Use-cases\n",
    "- beautify the code\n",
    "- check file names for ASCII compatibility\n",
    "- enhance commit message\n",
    "- enforce detailed commit messages\n",
    "- run test build\n",
    "        \n",
    "        it would help always maintain code in buildable state\n",
    "        not sure it's relevant for Python since you don't compile\n",
    "- run unit tests\n",
    "\n",
    "It seems that they don pretty much the same as CI/CD tools like Jenkins.\n",
    "\n",
    "You can check the list of files being updated in curent commit by running:\n",
    "```\n",
    "git-diff --name-only \n",
    "```"
   ]
  },
  {
   "cell_type": "markdown",
   "metadata": {},
   "source": [
    "### git-diff\n",
    "\n",
    "It's a file comparison utility. It can compare different types of files.\n",
    "\n",
    "Compare working directory to the last commit\n",
    "git-diff\n",
    "\n",
    "Compare 2 commits\n",
    "git-diff c1 c2\n",
    "\n",
    "Compare 2 files\n",
    "git-diff file1 file2\n",
    "\n",
    "Compare 2 branches\n",
    "git-diff "
   ]
  },
  {
   "cell_type": "markdown",
   "metadata": {},
   "source": [
    "### git-stash\n",
    "\n",
    "Temporarilty stores current working changes WITHOUT commiting them."
   ]
  },
  {
   "cell_type": "markdown",
   "metadata": {},
   "source": [
    "# Git automation extensions"
   ]
  },
  {
   "cell_type": "markdown",
   "metadata": {},
   "source": [
    "### GitHub - GitHub Actions\n",
    "\n",
    "It's embedded into github UI - page called \"Actions\".\n",
    "\n",
    "### Gitlab - CI/CD\n",
    "\n",
    "### BitBucket"
   ]
  }
 ],
 "metadata": {
  "kernelspec": {
   "display_name": "Python 3",
   "language": "python",
   "name": "python3"
  },
  "language_info": {
   "codemirror_mode": {
    "name": "ipython",
    "version": 3
   },
   "file_extension": ".py",
   "mimetype": "text/x-python",
   "name": "python",
   "nbconvert_exporter": "python",
   "pygments_lexer": "ipython3",
   "version": "3.7.6"
  }
 },
 "nbformat": 4,
 "nbformat_minor": 4
}
