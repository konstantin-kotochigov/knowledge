{
 "cells": [
  {
   "cell_type": "markdown",
   "metadata": {},
   "source": [
    "# Hamming Codes\n",
    "\n",
    "Hamming in 1950s invented\n",
    "\n",
    "\n",
    "- Error-detecting codes \n",
    "\n",
    "        To detect whethere there are errors in code\n",
    "\n",
    "\n",
    "- Eror-correcting codes (ECC)\n",
    "\n",
    "        To correct bit error means to locate it\n",
    "\n",
    "#### Motivation\n",
    "\n",
    "In old times of punch cards errors were ubiquitous => efficient error management was highly needed\n",
    "\n",
    "Now similar concepts are used in:\n",
    "- Information tramission\n",
    "- CD/DVD disks\n",
    "\n",
    "#### Idea \n",
    "\n",
    "Store some check information (CRCs) along with data. For example parity bits (whether number of ones is odd).\n",
    "\n",
    "#### Detection\n",
    "For error detection (at most 1 error) \n",
    "1. Store a parity bit (0 for odd number of ones, 1 for even number ones) in the beginning of the code\n",
    "2. After receiveing the data, compute parity and compare with parity bit\n",
    "\n",
    "#### Correction\n",
    "To correct errors = to detect their location\n",
    "\n",
    "SEC = single error correction\n",
    "\n",
    "For 4x4 matrix there must be 4 parity bits to detect error location.\n",
    "Each bit contains a parity bit in corresponding subsets of pixels.\n",
    "\n",
    "Compute parities for each subset and set flags to 1 if the are inconsistencies => (for example, 1001).\n",
    "\n",
    "If there was no error, check bits gonna be 0000.\n",
    "If there was an error, index of the check (e.g. 1101) will directly locate the erroneous bit.\n",
    "\n",
    "<img src=\"img/hammingcode1.png\" width=700>\n",
    "\n",
    "A convenient way of writing it:\n",
    "<img src=\"img/hammingcode2.jpg\" width=700>\n",
    "\n",
    "How to read:\n",
    "- If we modify d7 (11th bit), it alters three parity bits (p1, p2 and p8) => the index of the modification is 1101\n",
    "- If we modify d1 (3rd bit), it alters three parity bits (p1 and p2) => the index of the modification is 1100\n",
    "\n",
    "\n",
    "\n",
    "How does it scale? Logarithmically. For example, you need 8 parity bits for 16x16 matrix\n",
    "\n"
   ]
  },
  {
   "cell_type": "markdown",
   "metadata": {},
   "source": [
    "# Error-correcting Codes\n",
    "\n",
    "Taxonomy:\n",
    "- Block codes\n",
    "- Convolutional codes\n",
    "\n",
    "<img src=\"img/ecc.png\" width=750>"
   ]
  }
 ],
 "metadata": {
  "kernelspec": {
   "display_name": "Python 3",
   "language": "python",
   "name": "python3"
  },
  "language_info": {
   "codemirror_mode": {
    "name": "ipython",
    "version": 3
   },
   "file_extension": ".py",
   "mimetype": "text/x-python",
   "name": "python",
   "nbconvert_exporter": "python",
   "pygments_lexer": "ipython3",
   "version": "3.7.6"
  }
 },
 "nbformat": 4,
 "nbformat_minor": 4
}
