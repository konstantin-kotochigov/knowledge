{
 "cells": [
  {
   "cell_type": "markdown",
   "metadata": {},
   "source": [
    "### Pattern matching\n",
    "\n",
    "#### Knutt-Morris-Pratt algoritm\n",
    "\n",
    "Naive approach would have $O(mn)$ complexity. We are linearily scanning the tested string. When we found a substring candidate, we start to linearly check it. If the pattern is not satisfied, we will always have to get back to current index where we started. \n",
    "\n",
    "Optimized approach. If pattern is not satisfied, we check if pattern prefix has corresponding pattern suffix. In that case we have to go back and continue checking pattern. In all other cases we continue scanning the string from where the pattern failed.\n",
    "\n",
    "This complexity is $O(m+n)$."
   ]
  }
 ],
 "metadata": {
  "kernelspec": {
   "display_name": "Python 3",
   "language": "python",
   "name": "python3"
  },
  "language_info": {
   "codemirror_mode": {
    "name": "ipython",
    "version": 3
   },
   "file_extension": ".py",
   "mimetype": "text/x-python",
   "name": "python",
   "nbconvert_exporter": "python",
   "pygments_lexer": "ipython3",
   "version": "3.7.6"
  }
 },
 "nbformat": 4,
 "nbformat_minor": 4
}
