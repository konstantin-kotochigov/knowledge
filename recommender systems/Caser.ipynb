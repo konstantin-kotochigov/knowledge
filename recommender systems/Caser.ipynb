{
 "cells": [
  {
   "cell_type": "markdown",
   "metadata": {},
   "source": [
    "Very few methods take order into account => let's account for it\n",
    "\n",
    "\n",
    "\n",
    "Markov chains\n",
    "- FMCP factorized markov chain\n",
    "- Fossil = factorized sequencial prediction\n",
    "\n",
    "Main drawback of Markov chains = MCs are __point-level__ recommednations:\n",
    "1. they don't account for potential synergy of item groups<br>in a sequence {milk, flour, butter} butter is much more associated with a set milk+flour <br><br>\n",
    "2. They don't memorize<br>in a sequence {airport, restaurant, attraction} airport is associated with attraction way more than restaurant\n",
    "\n",
    "<img src=\"img/caser1.png\" width=750>\n",
    "\n",
    "### Setting\n",
    "\n",
    "Let $S=\\{S_1, S_2 ... S_n\\}$ be a sequence of user events. Then for some point $t$ we maximize the probability of next events:\n",
    "\n",
    "$$\\underbrace{\\{S_{t-L}, S_{t-L} ... S_{t-1}\\}}_{\\text{L previous items}} \\rightarrow {\\underbrace{\\{S_{t} S_{t+1} ... S_{t+T-1}\\}}_{\\text{T next items}}}$$\n",
    "\n",
    "### Network Architecture\n",
    "\n",
    "Consists of 3 layers:\n",
    "1. Embedding layer<br>represents each item as a learnable embedding vector + learnable user embedding\n",
    "2. Convolutional layer<br>performs multiple convoutions over matrix of embeddings to detect local patterns + does pooling\n",
    "3. MLP<br>builds output vector\n",
    "\n",
    "<img src=\"img/caser2.png\" width=900>"
   ]
  },
  {
   "cell_type": "markdown",
   "metadata": {},
   "source": [
    "### Datasets\n",
    "\n",
    "They evaluated on 4 datasets\n",
    "<img src = \"img/caser_datasets.png\" width=700>\n",
    "\n",
    "Compared to 5 baseline models:\n",
    "- POP = most frequent item among not rated\n",
    "- BPR  = model trained in a way that user would prefer real interaction over randomly sampled one\n",
    "- FMC / FPMC\n",
    "- Fossil\n",
    "- GRU4Rec"
   ]
  }
 ],
 "metadata": {
  "kernelspec": {
   "display_name": "Python 3",
   "language": "python",
   "name": "python3"
  },
  "language_info": {
   "codemirror_mode": {
    "name": "ipython",
    "version": 3
   },
   "file_extension": ".py",
   "mimetype": "text/x-python",
   "name": "python",
   "nbconvert_exporter": "python",
   "pygments_lexer": "ipython3",
   "version": "3.7.6"
  }
 },
 "nbformat": 4,
 "nbformat_minor": 4
}
