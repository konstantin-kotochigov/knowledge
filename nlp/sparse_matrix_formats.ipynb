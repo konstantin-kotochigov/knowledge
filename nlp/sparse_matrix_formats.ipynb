{
 "cells": [
  {
   "cell_type": "markdown",
   "metadata": {},
   "source": [
    "# Форматы Sparse матриц в SciPy\n",
    "\n",
    "В машинном обучении матрицы часто состоят преимущественно из нулей (пример - матрица покупок пользователей). Такие матрицы называются разреженными (sparse).\n",
    "\n",
    "Разреженные матрицы эффективно хранят только ненулевые элементы, что экономит память и время вычислений. В SciPy есть несколько форматов разреженных матриц в модуле `scipy.sparse`\n",
    "\n",
    "На результат вычислений формат хранения не влияет - он определеят только то, как данные лежат \"под капотом\", НО<br>\n",
    "1) может влиять на эффективность вычислений<br>\n",
    "2) многие библиотеки требуют входные данные в каком-то определенном формате => полезно знать, какие бывают"
   ]
  },
  {
   "cell_type": "markdown",
   "metadata": {},
   "source": [
    "## Распространённые форматы разреженных матриц в SciPy\n",
    "\n",
    "| Формат | Название                 | Подходящие сценарии          | Где обеспечивается эффективность      |\n",
    "|:--------|:--------------------------|:-------------------------------|:---------------------------|\n",
    "| CSR    | Сжатая по строкам (Compressed Sparse Row) | Выбор строк, матрично-векторные операции | Операции по строкам       |\n",
    "| CSC    | Сжатая по столбцам (Compressed Sparse Column) | Выбор столбцов, матрично-векторные операции | Операции по столбцам      |\n",
    "| COO    | Координатный формат (Coordinate Format) | Простое создание              | Создание матриц           |\n",
    "| LIL    | Список списков (List of Lists) | Пошаговое построение          | Назначение элементов      |\n",
    "| DOK    | Словарь ключей (Dictionary of Keys) | Случайный доступ, назначение | Назначение элементов      |\n",
    "| BSR    | Блочно-сжатая по строкам (Block Sparse Row) | Блочные матрицы              | Операции с блоками        |\n",
    "\n",
    "На практике встречаются в основном первые три"
   ]
  },
  {
   "cell_type": "markdown",
   "metadata": {},
   "source": [
    "---\n",
    "\n",
    "## 1. Создание Sparse матрицы"
   ]
  },
  {
   "cell_type": "code",
   "execution_count": null,
   "metadata": {},
   "outputs": [],
   "source": [
    "import numpy as np\n",
    "from scipy import sparse\n",
    "\n",
    "dense = np.array([\n",
    "    [0, 0, 3],\n",
    "    [4, 0, 0],\n",
    "    [0, 5, 0]\n",
    "])\n",
    "\n",
    "# COO формат\n",
    "coo = sparse.coo_matrix(dense)\n",
    "\n",
    "# CSR формат\n",
    "csr = sparse.csr_matrix(dense)\n",
    "\n",
    "# CSC формат\n",
    "csc = sparse.csc_matrix(dense)\n"
   ]
  },
  {
   "cell_type": "markdown",
   "metadata": {},
   "source": [
    "---\n",
    "\n",
    "## 2. COO (координатный) формат\n",
    "\n",
    "COO хранит данные в виде тройки `(строка, столбец, значение)`."
   ]
  },
  {
   "cell_type": "code",
   "execution_count": null,
   "metadata": {},
   "outputs": [],
   "source": [
    "coo = sparse.coo_matrix(([3, 4, 5], ([0, 1, 2], [2, 0, 1])))\n",
    "print(coo.toarray())"
   ]
  },
  {
   "cell_type": "markdown",
   "metadata": {},
   "source": [
    "Легко создавать\n",
    "\n",
    "Неэффективен для операций среза или арифметики."
   ]
  },
  {
   "cell_type": "markdown",
   "metadata": {},
   "source": [
    "---\n",
    "\n",
    "## 3. CSR (сжатый по строкам) формат\n",
    "\n",
    "Эффективен для **выбора строк** и умножения матрицы на вектор."
   ]
  },
  {
   "cell_type": "code",
   "execution_count": null,
   "metadata": {},
   "outputs": [],
   "source": [
    "csr = sparse.csr_matrix(dense)\n",
    "print(\"Вторая строка:\", csr[1].toarray())"
   ]
  },
  {
   "cell_type": "markdown",
   "metadata": {},
   "source": [
    "Внутреннее устройство:\n",
    "- `data`: список ненулевых значений\n",
    "- `indices`: индексы столбцов\n",
    "- `indptr`: указатели начала строк"
   ]
  },
  {
   "cell_type": "markdown",
   "metadata": {},
   "source": [
    "---\n",
    "\n",
    "## 4. CSC (сжатый по столбцам) формат\n",
    "\n",
    "Сжимает **столбцы**; эффективен для доступа по столбцам."
   ]
  },
  {
   "cell_type": "code",
   "execution_count": null,
   "metadata": {},
   "outputs": [],
   "source": [
    "csc = sparse.csc_matrix(dense)\n",
    "print(\"Второй столбец:\", csc[:,1].toarray())"
   ]
  },
  {
   "cell_type": "markdown",
   "metadata": {},
   "source": [
    "---\n",
    "\n",
    "## 5. LIL (список списков)\n",
    "\n",
    "Хорош для **пошагового построения** разреженной матрицы."
   ]
  },
  {
   "cell_type": "code",
   "execution_count": null,
   "metadata": {},
   "outputs": [],
   "source": [
    "lil = sparse.lil_matrix((3, 3))\n",
    "lil[0, 2] = 3\n",
    "lil[1, 0] = 4\n",
    "lil[2, 1] = 5\n",
    "print(lil.toarray())"
   ]
  },
  {
   "cell_type": "markdown",
   "metadata": {},
   "source": [
    "Быстро добавлять элементы\n",
    "\n",
    "Неэффективен для математических операций"
   ]
  },
  {
   "cell_type": "markdown",
   "metadata": {},
   "source": [
    "---\n",
    "\n",
    "## 6. DOK (словарь ключей)\n",
    "\n",
    "Использует Python словарь `{(строка, столбец): значение}`."
   ]
  },
  {
   "cell_type": "code",
   "execution_count": null,
   "metadata": {},
   "outputs": [],
   "source": [
    "dok = sparse.dok_matrix((3, 3))\n",
    "dok[0, 2] = 3\n",
    "dok[1, 0] = 4\n",
    "dok[2, 1] = 5\n",
    "print(dok.toarray())"
   ]
  },
  {
   "cell_type": "markdown",
   "metadata": {},
   "source": [
    "Отлично для случайного доступа и обновлений\n",
    "\n",
    "Требует преобразования для быстрых операций"
   ]
  },
  {
   "cell_type": "markdown",
   "metadata": {},
   "source": [
    "---\n",
    "\n",
    "## 7. BSR (блочно-сжатый по строкам) формат\n",
    "\n",
    "Полезен, когда матрица состоит из блоков."
   ]
  },
  {
   "cell_type": "code",
   "execution_count": null,
   "metadata": {},
   "outputs": [],
   "source": [
    "data = np.array([\n",
    "    [[1, 0], [0, 1]],\n",
    "    [[4, 5], [7, 8]]\n",
    "])\n",
    "bsr = sparse.bsr_matrix((data, [0, 2], [0, 1, 2]))\n",
    "print(bsr.toarray())"
   ]
  },
  {
   "cell_type": "markdown",
   "metadata": {},
   "source": [
    "---\n",
    "\n",
    "## Преобразование между форматами\n",
    "\n",
    "Преобразование между типами выполняется очень легко, есть для этого специальные методы"
   ]
  },
  {
   "cell_type": "code",
   "execution_count": null,
   "metadata": {},
   "outputs": [],
   "source": [
    "csr = coo.tocsr()\n",
    "csc = csr.tocsc()\n",
    "lil = csr.tolil()\n"
   ]
  },
  {
   "cell_type": "markdown",
   "metadata": {},
   "source": [
    "---\n",
    "\n",
    "## Операции с разреженными матрицами"
   ]
  },
  {
   "cell_type": "code",
   "execution_count": null,
   "metadata": {},
   "outputs": [],
   "source": [
    "A = sparse.csr_matrix([[1, 0, 2], [0, 3, 0]])\n",
    "B = sparse.csr_matrix([[0, 4, 0], [0, 0, 5]])\n",
    "\n",
    "# Умножение матрицы на вектор\n",
    "v = np.array([1, 2, 3])\n",
    "print(A.dot(v))\n",
    "\n",
    "# Сложение\n",
    "C = A + B\n",
    "print(C.toarray())\n",
    "\n",
    "# Транспонирование\n",
    "print(A.T.toarray())"
   ]
  }
 ],
 "metadata": {
  "kernelspec": {
   "display_name": "Python 3",
   "language": "python",
   "name": "python3"
  },
  "language_info": {
   "codemirror_mode": {
    "name": "ipython",
    "version": 3
   },
   "file_extension": ".py",
   "mimetype": "text/x-python",
   "name": "python",
   "nbconvert_exporter": "python",
   "pygments_lexer": "ipython3",
   "version": "3.7.6"
  }
 },
 "nbformat": 4,
 "nbformat_minor": 5
}
