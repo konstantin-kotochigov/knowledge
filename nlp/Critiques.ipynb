{
 "cells": [
  {
   "cell_type": "markdown",
   "id": "6d7021c3-7145-49ad-b315-cb1b1196e684",
   "metadata": {},
   "source": [
    "\n",
    "Apple provocatevely poses a question: can LLMs truly reason\n",
    "They 4 classic problems: Hanoi towers, River overcoming, Elevator, Cubics. They allow to model complexity. The solution is the same, the amount reasoning should be equal\n",
    "What theyt found out:\n",
    "- as size goes up, LLMs quickly starts to fail\n",
    "- reasoing helps, but only for a couple of steps\n",
    "- giving more computational helped, but again only for a couple of steps\n",
    "- giving clear instructions (pseudocode) did not help\n",
    "\n",
    "Still LLM can easily provide correct Python solution"
   ]
  }
 ],
 "metadata": {
  "kernelspec": {
   "display_name": "Python 3.13",
   "language": "python",
   "name": "mypython"
  },
  "language_info": {
   "codemirror_mode": {
    "name": "ipython",
    "version": 3
   },
   "file_extension": ".py",
   "mimetype": "text/x-python",
   "name": "python",
   "nbconvert_exporter": "python",
   "pygments_lexer": "ipython3",
   "version": "3.13.4"
  }
 },
 "nbformat": 4,
 "nbformat_minor": 5
}
