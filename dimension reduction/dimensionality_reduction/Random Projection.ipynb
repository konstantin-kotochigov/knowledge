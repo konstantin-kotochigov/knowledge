{
 "cells": [
  {
   "cell_type": "markdown",
   "metadata": {},
   "source": [
    "# Random Projections (2001)\n",
    "---\n",
    "\n",
    "__Idea:__ project all data points to a set of $k$ random lines. The precision of approximation is adjusted by choosing the number of projections k\n",
    "\n",
    "It's probabliy the simplest approach though efficient when number of dimensions is large. In that case PCA becomes very inefficient \n",
    "\n",
    "Cool feature about it - you don't even need to have access to data to construct such projection. Which means it's extremely fast.\n",
    "\n",
    "Has some similarities to LSH (Locality Sensitive Hasing)\n",
    "\n",
    "\n",
    "# Theoretical grounding\n",
    "---\n",
    "A set of points in a high-dimensional space can be embedded into a space of much lower dimension in such a way that distances between the points are nearly preserved. This is stated in Johnson–Lindenstrauss lemma\n",
    "\n",
    "\n",
    "<img src=\"img/johnson2.png\" width=400>\n",
    "\n",
    "### Johnson–Lindenstrauss lemma\n",
    "For any approximation level $\\epsilon$ there exists a mapping $f: R^{n} \\rightarrow R^{k}$ that preserves the distances between all points in the dataset\n",
    "\n",
    "<img src=\"img/johnson.svg\" width=400>\n",
    "\n",
    "\n",
    "Here k depends on the approximation strength: less precision = less dimensions are necessary\n",
    "\n",
    "\n",
    "<img src=\"img/johnson3.svg\" width=100>\n",
    "\n",
    "\n",
    "### Required number of dimensions\n",
    "\n",
    "<img src=\"img/johnson3.png\" width=500>"
   ]
  },
  {
   "cell_type": "code",
   "execution_count": null,
   "metadata": {},
   "outputs": [],
   "source": []
  }
 ],
 "metadata": {
  "kernelspec": {
   "display_name": "Python 3",
   "language": "python",
   "name": "python3"
  },
  "language_info": {
   "codemirror_mode": {
    "name": "ipython",
    "version": 3
   },
   "file_extension": ".py",
   "mimetype": "text/x-python",
   "name": "python",
   "nbconvert_exporter": "python",
   "pygments_lexer": "ipython3",
   "version": "3.7.6"
  }
 },
 "nbformat": 4,
 "nbformat_minor": 4
}
