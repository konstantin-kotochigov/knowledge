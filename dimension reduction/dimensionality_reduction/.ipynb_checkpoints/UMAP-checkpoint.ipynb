{
 "cells": [
  {
   "cell_type": "markdown",
   "metadata": {},
   "source": [
    "# UMAP (2018)\n",
    "https://arxiv.org/pdf/1802.03426.pdf\n",
    "\n",
    "This approach saw the light in twenty eighteen. The authors positioned it as an alternative to t-SNE, but claimed it to be more mathematically grounded.\n",
    "\n",
    "So lets discuss the steps of algorithm:\n",
    "1. Cover of open circles\n",
    "2. Build a fuzzy simplicial complex\n",
    "3. Build the same structure in a low-dimensional space\n",
    "4. Choose a mapping that minimizes discordance (namely, cross-entropy) between those sets\n",
    "\n",
    "Now let’s dive into a bit more detail here.\n",
    "\n",
    "**Simplex** is a generalization of a triangle to an arbitrary number of dimensions. Another way to think of a K-dimensional simplex - it is a convex hull of k + 1 points (given these points don’t lay on the same hyperplane).\n",
    "\n",
    "Simplicial complex is a set of simplices, and we allow some of them be sticked to another ones. They could be joined along one face (for example, could have one common point, one common edge or one common face and so on).\n",
    "\n",
    "Once we build"
   ]
  }
 ],
 "metadata": {
  "kernelspec": {
   "display_name": "Python 3",
   "language": "python",
   "name": "python3"
  },
  "language_info": {
   "codemirror_mode": {
    "name": "ipython",
    "version": 3
   },
   "file_extension": ".py",
   "mimetype": "text/x-python",
   "name": "python",
   "nbconvert_exporter": "python",
   "pygments_lexer": "ipython3",
   "version": "3.7.6"
  }
 },
 "nbformat": 4,
 "nbformat_minor": 4
}
