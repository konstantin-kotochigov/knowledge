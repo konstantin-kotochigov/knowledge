{
 "cells": [
  {
   "cell_type": "markdown",
   "metadata": {},
   "source": [
    "## Isomap (2000)\n",
    "\n",
    "Isomap stands for isometric mapping, which denotes mapping that preserves distances in a new space.\n",
    "\n",
    "Isomap is one of the earliest approaches that utilize two ideas:\n",
    "- any dataset can be represented as a graph\n",
    "- geodesic distances are better than euclidean distances in capturing local structure of a dataset\n",
    "\n",
    "In mathematics **geodesic distance** is simply the shortest path between two nodes in a graph. \n",
    "If we consider two nodes A and B, the euclidean distance would be small, but the geodesic distance would be huge. Since we want to retain our manifold structure, geodesic distance is much more suitable here.\n",
    "\n",
    "On a side note. The naming comes from the geodesy - the study of the form of our planet - and the fact that \"real\" distance between 2 cities (I mean, the shortest path between them) is an arc rather then a straight line. So same principle is applied to manifolds.\n",
    "\n",
    "So, how do we represent a dataset as a graph?\n",
    "- we consider each point as a node\n",
    "- we connect two nodes, if one node is the nearest point to another one\n",
    "(nearest in terms of euclidean distance, because here we don't have a graph yet, so we can't use geodesic)\n",
    "This graph will always be connected, so we can calculate distance between any two nodes. \n",
    "The degree of all nodes will be k. Degree is a number of outbound edges.\n",
    "\n",
    "So connecting nodes to kNN is a easiest way to represent a graph as a dataset.\n",
    "\n",
    "So, putting it all together:\n",
    "- for each point we find its k-nearest neighbors we put an edge between each point and its neighbors\n",
    "- when we did it for all points, we get a graph structure of our dataset using this graph we can calculate the geodesic distance from each point to all other points. All those distances form a distance matrix.\n",
    "\n",
    "The are many ways how to calculate the shortest path between two nodes, in its simplest form it can be done by famous Dikstra algorithm\n",
    "- now, as we’ve got a distance matrix, which describes our dataset, the obvious thing to do - is to perform multidimensional scaling (that we already are familiar with).\n",
    "\n",
    "Multidimensional scaling gives us a low-dimensional representation of a dataset.\n"
   ]
  }
 ],
 "metadata": {
  "kernelspec": {
   "display_name": "Python 3",
   "language": "python",
   "name": "python3"
  },
  "language_info": {
   "codemirror_mode": {
    "name": "ipython",
    "version": 3
   },
   "file_extension": ".py",
   "mimetype": "text/x-python",
   "name": "python",
   "nbconvert_exporter": "python",
   "pygments_lexer": "ipython3",
   "version": "3.7.6"
  }
 },
 "nbformat": 4,
 "nbformat_minor": 4
}
