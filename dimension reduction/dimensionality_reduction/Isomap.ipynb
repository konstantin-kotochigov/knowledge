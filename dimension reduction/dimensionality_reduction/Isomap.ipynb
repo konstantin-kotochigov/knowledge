{
 "cells": [
  {
   "cell_type": "markdown",
   "metadata": {},
   "source": [
    "## Isomap (2000)\n",
    "\n",
    "Isomap stands for isometric mapping, which denotes mapping that preserves distances in a new space.\n",
    "\n",
    "Isomap is one of the earliest approaches that utilize two ideas:\n",
    "- any dataset can be represented as a graph\n",
    "- geodesic distances are better than euclidean distances in capturing local structure of a dataset\n",
    "\n",
    "In mathematics **geodesic distance** is simply the shortest path between two nodes in a graph. \n",
    "If we consider two nodes A and B, the euclidean distance would be small, but the geodesic distance would be huge. Since we want to retain our manifold structure, geodesic distance is much more suitable here.\n",
    "\n",
    "On a side note. The naming comes from the geodesy - the study of the form of our planet - and the fact that \"real\" distance between 2 cities (I mean, the shortest path between them) is an arc rather then a straight line. So same principle is applied to manifolds.\n",
    "\n",
    "So, how do we represent a dataset as a graph?\n",
    "- we consider each point as a node\n",
    "- we connect two nodes, if one node is the nearest point to another one\n",
    "(nearest in terms of euclidean distance, because here we don't have a graph yet, so we can't use geodesic)\n",
    "This graph will always be connected, so we can calculate distance between any two nodes. \n",
    "The degree of all nodes will be k. Degree is a number of outbound edges.\n",
    "\n",
    "So connecting nodes to kNN is a easiest way to represent a graph as a dataset.\n",
    "\n",
    "# Algorithm\n",
    "---\n",
    "1. Construct a dataset graph - for each point get its k-nearest neighbors and connect them with an edge\n",
    "2. For each point calculate the geodesic distance to all other points and get a distance matrix D<br>\n",
    "The are many ways how to calculate the shortest path between two nodes, in its simplest form it can be done by famous Dikstra algorithm\n",
    "3. Perform multidimensional scaling on D matrix"
   ]
  }
 ],
 "metadata": {
  "kernelspec": {
   "display_name": "Python 3",
   "language": "python",
   "name": "python3"
  },
  "language_info": {
   "codemirror_mode": {
    "name": "ipython",
    "version": 3
   },
   "file_extension": ".py",
   "mimetype": "text/x-python",
   "name": "python",
   "nbconvert_exporter": "python",
   "pygments_lexer": "ipython3",
   "version": "3.7.6"
  }
 },
 "nbformat": 4,
 "nbformat_minor": 4
}
