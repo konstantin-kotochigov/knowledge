{
 "cells": [
  {
   "cell_type": "markdown",
   "metadata": {},
   "source": [
    "Набор модулей для разработки Text related приложений\n",
    "\n",
    "- HugginfFaceEmbeddings - энкодер для текста\n",
    "- CharacterSplitter - нарезка текста на куски\n",
    "- Documents - обертка над текстом с метаданными\n",
    "- Retriever - по запросу q достает документы из базы\n",
    "- VectorStore - база эмбедингов\n",
    "- EnsembleRetiever - несколькими способами достает документы из базы\n",
    "\n",
    "create_retrieval_chain()\n",
    "- create_shuff_docuemnt_chain()\n",
    "- EmbeddingRetriever\n",
    "\n",
    "chain.invoke()"
   ]
  }
 ],
 "metadata": {
  "kernelspec": {
   "display_name": "Python 3",
   "language": "python",
   "name": "python3"
  },
  "language_info": {
   "codemirror_mode": {
    "name": "ipython",
    "version": 3
   },
   "file_extension": ".py",
   "mimetype": "text/x-python",
   "name": "python",
   "nbconvert_exporter": "python",
   "pygments_lexer": "ipython3",
   "version": "3.7.6"
  }
 },
 "nbformat": 4,
 "nbformat_minor": 4
}
