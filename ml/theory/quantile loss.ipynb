{
 "cells": [
  {
   "cell_type": "markdown",
   "metadata": {},
   "source": [
    "### Quantile Loss & Quantile Regression\n",
    "\n",
    "Пусть дана задача регресии\n",
    "\n",
    "<img src=\"img/regression.png\" width=150>\n",
    "\n",
    "Надо построить модель n%-го квантиля. Например,\n",
    "- имеем хитрую генеративную модель, где шум смещен в одну сторону\n",
    "- посмотреть на распределение значений\n",
    "\n",
    "__OLS__ = ищем решение $\\beta_{OLS}$, которое минимизировало бы среднее отклонение от реального наблюдения\n",
    "\n",
    "Loss в таком случае\n",
    "\n",
    "$$L_{OLS} = \\text{MSE} = \\frac{1}{N} \\sum_{i=1}^N {\\big(y-\\hat{f}\\big)} ^ 2 \\rightarrow \\text{min}$$\n",
    "\n",
    "__Quantile__ = ищем решение $\\beta_Q$, которое минимизировало бы среднее отклонение от реального наблюдения, но не квадратичное, а  чтобы штрафовало положительные (отрицательные) ошибки больше\n",
    "\n",
    "Например, как в двух примерах ниже (здесь $w$ = вес ошибки в большую сторону):\n",
    "\n",
    "<img src=\"img/quantile1.png\" width=500>\n",
    "\n",
    "__Quantile Loss__ записывается так:\n",
    "<img src=\"img/quantile2.png\" width=300>\n",
    "\n",
    "Оптимальное решение $\\beta_Q$ будет соотвествовать тому квантилю $y|x$, где соблюдается равновесие двух ошибок. Интуитивно, если вес ошибок слева равен весу ошибок справа => мы ближе всего к минимуму $L_Q$.\n",
    "\n",
    "\n",
    "#### почему\n",
    "\n",
    "производная функции потерь по предикту стремится к нулю там где соблюдается балансЖ\n",
    "\n",
    "$$\\frac{dL}{d\\hat{f}}=\\begin{cases}w, \\text{ } \\hat{f}-y \\ge 0 \\\\ - w, \\text{ } \\hat{f}-y \\ge 0 \\\\ \\end{cases} = \\sum_{f-y\\ge 0 } (w) + \\sum_{f-y \\le 0} (-w)$$\n",
    "\n",
    "\n",
    "#### свойства\n",
    "\n",
    "Чем больший перекос, тем больше квантиль\n",
    "\n",
    "Если $w = \\frac{1}{2}$ (оставляем симметрию), то оптимум будет в медиане $M\\big[y|x\\big]$\n"
   ]
  }
 ],
 "metadata": {
  "kernelspec": {
   "display_name": "Python 3",
   "language": "python",
   "name": "python3"
  },
  "language_info": {
   "codemirror_mode": {
    "name": "ipython",
    "version": 3
   },
   "file_extension": ".py",
   "mimetype": "text/x-python",
   "name": "python",
   "nbconvert_exporter": "python",
   "pygments_lexer": "ipython3",
   "version": "3.7.6"
  }
 },
 "nbformat": 4,
 "nbformat_minor": 4
}
