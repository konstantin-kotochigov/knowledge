{
 "cells": [
  {
   "cell_type": "markdown",
   "metadata": {},
   "source": [
    "# torchvision\n",
    "\n",
    "This PyTorch module provides a set of functions for performing common Computer Vision procedures\n",
    "\n",
    "**<span style=\"color:blue\"> torchvision.datasets**\n",
    "\n",
    "A repository with commonly used CV datasets:\n",
    "    - ImageNet\n",
    "    - COCO\n",
    "    - CIFAR\n",
    "    - MNIST / Fashion-MNIST\n",
    "... and others\n",
    "\n",
    "Small datasets (like ImageNet, MNIST) can be directly downloaded, larger ones require manual installation. Some datasets also require annotation files.\n",
    "\n",
    "```python\n",
    "imagenet_data = torchvision.datasets.ImageNet('path/to/imagenet_root/')\n",
    "data_loader = torch.utils.data.DataLoader(imagenet_data,\n",
    "                                          batch_size=4,\n",
    "                                          shuffle=True,\n",
    "                                          num_workers=args.nThreads)\n",
    "```\n",
    "\n",
    "There is also a generic Dataset called **ImageFolder**. It implements the loading of images from hierarchical directory.\n",
    "\n",
    "**<span style=\"color:blue\">  torchvision.transforms</span>**\n",
    "\n",
    "Comprises a number of functions for image augmentation.\n",
    "\n",
    "Transforms are usually chained into a sequnece (which defines some Tensor operation). This is done via **transforms.Compose** class:\n",
    "```python\n",
    "transformation = transforms.Compose([\n",
    "        transforms.RandomResizedCrop(224),\n",
    "        transforms.RandomHorizontalFlip(),\n",
    "        transforms.ToTensor(),\n",
    "        transforms.Normalize([0.485, 0.456, 0.406], [0.229, 0.224, 0.225])\n",
    "```\n",
    "\n",
    "Transforms are used as a preprocessor when loading images from some Dataset.\n",
    "\n",
    "```python\n",
    "ds = datasets.ImageFolder(\"root/train/\", transform = transformation)\n",
    "```\n",
    "\n",
    "**<span style=\"color:blue\"> torchvision.models</span>**\n",
    "\n",
    "A list of pretrained state-of-the-art arhictectures\n",
    "\n",
    "**<span style=\"color:blue\"> torchvision.ops**\n",
    "\n",
    "CV specific utils\n",
    "\n",
    "**<span style=\"color:blue\"> torchvision.io**\n",
    "\n",
    "For reading video stream"
   ]
  }
 ],
 "metadata": {
  "kernelspec": {
   "display_name": "Python 3",
   "language": "python",
   "name": "python3"
  },
  "language_info": {
   "codemirror_mode": {
    "name": "ipython",
    "version": 3
   },
   "file_extension": ".py",
   "mimetype": "text/x-python",
   "name": "python",
   "nbconvert_exporter": "python",
   "pygments_lexer": "ipython3",
   "version": "3.7.6"
  },
  "varInspector": {
   "cols": {
    "lenName": 16,
    "lenType": 16,
    "lenVar": 40
   },
   "kernels_config": {
    "python": {
     "delete_cmd_postfix": "",
     "delete_cmd_prefix": "del ",
     "library": "var_list.py",
     "varRefreshCmd": "print(var_dic_list())"
    },
    "r": {
     "delete_cmd_postfix": ") ",
     "delete_cmd_prefix": "rm(",
     "library": "var_list.r",
     "varRefreshCmd": "cat(var_dic_list()) "
    }
   },
   "types_to_exclude": [
    "module",
    "function",
    "builtin_function_or_method",
    "instance",
    "_Feature"
   ],
   "window_display": false
  }
 },
 "nbformat": 4,
 "nbformat_minor": 4
}
