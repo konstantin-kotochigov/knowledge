{
 "cells": [
  {
   "cell_type": "markdown",
   "metadata": {},
   "source": [
    "# Introduction\n",
    "\n",
    "The task is to acquire a new image that has content of the image X and the style of referral image Y.\n",
    "\n",
    "\n",
    "- **Content** is a high-level semantic content of an image (what's on the picture)\n",
    "\n",
    "\n",
    "- **Style** is low-level texture of an image (how is it drawn)\n",
    "\n",
    "Neural Style Transfer (NPS) - subclass of ST methods that utilize deep networks to accomplish this\n",
    "\n",
    "\n",
    "- Texture syntesis - generation of textures. Naturally it's a part of style transfer task. \n",
    "\n",
    "\n",
    "- Image analogy - we want to get image A' based on image A so that A relates to A' the same way that B relates to B'\n",
    "\n",
    "\n",
    "- Photorealistic textures - \n",
    "\n",
    "\n",
    "- Non-photorealistic tetures -\n",
    "\n",
    "\n",
    "\n",
    "\n",
    "Good reference:\n",
    "- https://arxiv.org/pdf/1705.04058.pdf\n",
    "\n",
    "\n",
    "According to the taxonomy, methods are grouped into two classes:\n",
    "- online - target image is being iteratively optimized from the original one\n",
    "- offline - target image is being generated from scratch\n",
    "\n",
    "<img src=\"img/taxonomy.png\">\n"
   ]
  },
  {
   "cell_type": "markdown",
   "metadata": {},
   "source": [
    "# Gatys et al\n",
    "\n",
    "This is central work released in 2015 that neural transfer (Max Plank University)\n",
    "https://arxiv.org/pdf/1508.06576.pdf\n",
    "\n",
    "С точки зрения сети - есть 3 входа. Один - оптимизируемый, наша целевая картинка (исходного размера). И есть 2 константы - картинка, содержание которой мы хотим скопировать (content), и картинка, стиль которой мы хотим скопировать (style).\n",
    "\n",
    "\n",
    "We separatly define Loss in content and loss in style:\n",
    "\n",
    "How we define content\n",
    "It's just a feature map from a layer that is close to the output\n",
    "* Таким макаром можно семантические синонимы искать среди картинок\n",
    "\n",
    "How we define Loss(content)\n",
    "Lcontent is a per pixel sum of squared error between pair of feature maps\n",
    "\n",
    "Note that here i - feature, j - pixel, l - layer.\n",
    "\n",
    "How we define style\n",
    "We define style as a covariance matrix between features from some intermediate layer (or several intermediate layers).\n",
    "\n",
    "Those matrices are also called Gram matrices since they can be represented by a scalar product between all pairs of features. If we flatten each 2D feature map to a 1D vector, correlation becomes a scalar product between pair of vectors. \n",
    "\n",
    "\n",
    "\n",
    "\n",
    "How we define Loss(style)\n",
    "Lstyle - sum of squared errors when comparing two Gram matrices - of original and generated image:\n",
    "\n",
    "where G и A - Gram matrice of original / A - of target (i, j - features, k - pixel, l - layer)\n",
    "\n",
    "Lstyle is usually summed over multiple layers:\n",
    "\n",
    "\n",
    "Почему имеем право сравнивать матрицы ковариаций от разных картинок?\n",
    "Since the network is the same for original and reference images, the order of channels is determined. So, if images have the same style, the correlations of features must be high.\n",
    "Потому что сеть одна и та же. Поэтому порядок каналов одинаковый и каждый канал отвечает за один и тот же паттерн на обоих картинках. Поэтому можем сравнивать.\n",
    "\n",
    "Почему матрица ковариаций описывает стилистику?\n",
    "Что может указывать на наличие уникального стиля картинки\n",
    "повышенная встречаемость какого-то паттерна (например, контрастные линии), на это указывает высокое значение диагонального элемента матрицы Грама\n",
    "частая одновременная встречаемость паттернов (например, горизонтальные красные линии плюс диагонаьные желтые линии)\n"
   ]
  }
 ],
 "metadata": {
  "kernelspec": {
   "display_name": "Python 3",
   "language": "python",
   "name": "python3"
  },
  "language_info": {
   "codemirror_mode": {
    "name": "ipython",
    "version": 3
   },
   "file_extension": ".py",
   "mimetype": "text/x-python",
   "name": "python",
   "nbconvert_exporter": "python",
   "pygments_lexer": "ipython3",
   "version": "3.7.6"
  },
  "varInspector": {
   "cols": {
    "lenName": 16,
    "lenType": 16,
    "lenVar": 40
   },
   "kernels_config": {
    "python": {
     "delete_cmd_postfix": "",
     "delete_cmd_prefix": "del ",
     "library": "var_list.py",
     "varRefreshCmd": "print(var_dic_list())"
    },
    "r": {
     "delete_cmd_postfix": ") ",
     "delete_cmd_prefix": "rm(",
     "library": "var_list.r",
     "varRefreshCmd": "cat(var_dic_list()) "
    }
   },
   "types_to_exclude": [
    "module",
    "function",
    "builtin_function_or_method",
    "instance",
    "_Feature"
   ],
   "window_display": false
  }
 },
 "nbformat": 4,
 "nbformat_minor": 4
}
