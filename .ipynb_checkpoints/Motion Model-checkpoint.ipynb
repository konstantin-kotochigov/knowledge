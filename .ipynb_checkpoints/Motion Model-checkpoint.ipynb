{
 "cells": [
  {
   "cell_type": "markdown",
   "metadata": {},
   "source": [
    "Nice and simple video course here:\n",
    "\n",
    "https://www.youtube.com/watch?v=rjpbE-X23wc\n"
   ]
  },
  {
   "cell_type": "markdown",
   "metadata": {},
   "source": [
    "Bayes Filter - \n",
    "\n",
    "If distributionns are normal, this expression becomes Kalman Filter.\n",
    "\n",
    "Recursive Bayesian estimation can be formulated as as Hideen Markov Model (HMM)\n",
    "\n",
    "\n",
    "Overall each step of the process looks like this:\n",
    "\n",
    "$$bel(x_t) = \\eta \\cdot P(z_t | x_t) \\cdot \\int P(x_t | x_{t-1}, y_{t-1}) \\cdot bel(x_{t-1} ) d x_{t-1} $$\n",
    "\n",
    "The step consits of 2 parts:\n",
    "- updating using <u>motion model</u>\n",
    "- correcting using <u>observation model</u>\n",
    "\n",
    "#### Motion Model\n",
    "With Motion Model we predict where the robot could be now, given that previous position was $x_{t-1}$ and the control applied was $u_{t}$\n",
    "\n",
    "$$ \\hat{bel(x_t)} = \\int P(x_t | x_{t-1}, u_{t}) \\cdot bel(x_{t-1} ) d x_{t-1} $$\n",
    "\n",
    "Let's explore this expression:\n",
    "- $bel(x_{t-1})$ - estimated robot localization from the previous step (distribution)\n",
    "- $P(x_t | x_{t-1}, u_{t-1})$ - distribution of a new position given starting point $x_{t-1}$ and control $u_t$\n",
    "\n",
    "Then we intergrate over all possible starting points to get a posterior ditsribution of the robot position\n",
    "\n",
    "#### Observartion Model\n",
    "\n",
    "Then we get an observed value $z_t$ and reweight our distribution $bel(x_{t-1})$ according to the likelihood of this value $P(x_t| x_t)$:\n",
    "\n",
    "$$ \\hat{bel(x_t)} = P(z_{t} | x_{t}) \\cdot bel(x_{t-1} ) $$"
   ]
  }
 ],
 "metadata": {
  "kernelspec": {
   "display_name": "Python 3",
   "language": "python",
   "name": "python3"
  },
  "language_info": {
   "codemirror_mode": {
    "name": "ipython",
    "version": 3
   },
   "file_extension": ".py",
   "mimetype": "text/x-python",
   "name": "python",
   "nbconvert_exporter": "python",
   "pygments_lexer": "ipython3",
   "version": "3.7.6"
  }
 },
 "nbformat": 4,
 "nbformat_minor": 4
}
