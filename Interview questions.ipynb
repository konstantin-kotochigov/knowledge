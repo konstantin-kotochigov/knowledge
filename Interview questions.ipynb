{
 "cells": [
  {
   "cell_type": "code",
   "execution_count": 116,
   "metadata": {},
   "outputs": [],
   "source": [
    "def print_array(a,b):\n",
    "  i = 0\n",
    "  j = 0\n",
    "  for x in range(1000):\n",
    "    \n",
    "    # Move A\n",
    "    while a[i] <= b[j] and i <= len(a) - 2:\n",
    "      if a[i]!=b[j]:\n",
    "        print(a[i])  \n",
    "      i = i + 1\n",
    "    \n",
    "    # Find reference element in B\n",
    "    while a[i] >= b[j] and j <= len(b) - 2:\n",
    "      j=j+1\n",
    "    print(\"step 1: \",a[i],b[j])\n",
    "    \n",
    "    if i == len(a) - 1:\n",
    "        # print(\"return \" + x)\n",
    "        if a[i] != b[j]:\n",
    "          print(a[i])\n",
    "        return x\n",
    "        \n",
    "    print(\"step 2: \", a[i],b[j])\n",
    "  return x"
   ]
  },
  {
   "cell_type": "markdown",
   "metadata": {},
   "source": [
    "## Longest continuous increasing subsequence\n",
    "\n",
    "https://leetcode.com/problems/longest-continuous-increasing-subsequence/\n",
    "\n",
    "Given an unsorted array of integers nums, return the length of the longest continuous increasing subsequence (i.e. subarray). The subsequence must be strictly increasing.\n",
    "A continuous increasing subsequence is defined by two indices l and r (l < r) such that it is [nums[l], nums[l + 1], ..., nums[r - 1], nums[r]] and for each l <= i < r, nums[i] < nums[i + 1].\n",
    "\n",
    "Тут очевидно. Cканируем массив, считаем число растущих элементов, как только находим элемент, который не возрастает: \n",
    "-обнуляем длину\n",
    "-сравниваем с текущим максимумом и при необходимости обновляем\n",
    "-накапливаем заново\n"
   ]
  },
  {
   "cell_type": "markdown",
   "metadata": {},
   "source": [
    "## Merge two sorted lists\n",
    "https://leetcode.com/problems/merge-two-sorted-lists/\n",
    "\n",
    "You are given the heads of two sorted linked lists list1 and list2.\n",
    "Merge the two lists in a one sorted list. The list should be made by splicing together the nodes of the first two lists.\n",
    "Return the head of the merged linked list.\n",
    "\n",
    "Идея очевидна - на каждом шаге смотрим на два указателя и выводим элемент, который меньше и двигаем указатель этого массива дальше\n",
    "Если массив просмотрели, то выбор делать не нужно, выводим другой массив\n",
    "Если оба массива просмотрели, возвращаем результат\n",
    "Как ни странно, в терминах списков делать проще, чем в терминах массивов\n",
    "Надо внимательно прописывать все кейса: везде должно быть исключающее или\n",
    " \n"
   ]
  },
  {
   "cell_type": "code",
   "execution_count": 117,
   "metadata": {},
   "outputs": [
    {
     "name": "stdout",
     "output_type": "stream",
     "text": [
      "step 1:  2 3\n",
      "step 2:  2 3\n",
      "2\n",
      "step 1:  5 3\n",
      "5\n"
     ]
    },
    {
     "data": {
      "text/plain": [
       "1"
      ]
     },
     "execution_count": 117,
     "metadata": {},
     "output_type": "execute_result"
    }
   ],
   "source": [
    "print_array([1,2,5],[1,2,3])"
   ]
  },
  {
   "cell_type": "code",
   "execution_count": 134,
   "metadata": {},
   "outputs": [],
   "source": [
    "def find(j, x, b):\n",
    "    while j <= len(b) - 2 and b[j]<x:\n",
    "        j = j+1\n",
    "    return j\n",
    "\n",
    "def print_array(a,b):\n",
    "    i = 0\n",
    "    j = 0\n",
    "    for i in range(len(a)):\n",
    "        j = find(j, a[i], b)\n",
    "        if b[j] != a[i]:\n",
    "            print(a[i])"
   ]
  },
  {
   "cell_type": "code",
   "execution_count": 2,
   "metadata": {},
   "outputs": [],
   "source": [
    "def merge_lists(a,b):\n",
    "    i=0\n",
    "    j=0\n",
    "    result = []\n",
    "    a_done = False if len(a) > 0 else True\n",
    "    b_done = False if len(b) > 0 else True\n",
    "    \n",
    "    # while there is place to move\n",
    "    while (not a_done) or (not b_done):\n",
    "    \n",
    "        # can move only a\n",
    "        if (not a_done) and b_done:\n",
    "            result.append(a[i])\n",
    "            i = i + 1\n",
    "        \n",
    "        # can move only b\n",
    "        elif (not b_done) and a_done:\n",
    "            result.append(b[j])\n",
    "            j = j + 1\n",
    "        \n",
    "        # can move both\n",
    "        elif (not a_done) and (not b_done):\n",
    "            \n",
    "            # choose which to move\n",
    "            if a[i] < b[j]:\n",
    "                result.append(a[i])\n",
    "                i = i + 1\n",
    "            else:\n",
    "                result.append(b[j])\n",
    "                j = j + 1\n",
    "        \n",
    "        # update statuses\n",
    "        a_done = i >= len(a)\n",
    "        b_done = j >= len(b)\n",
    "        # print(a_done, b_done, result)\n",
    "\n",
    "    return result"
   ]
  },
  {
   "cell_type": "code",
   "execution_count": 3,
   "metadata": {},
   "outputs": [
    {
     "data": {
      "text/plain": [
       "[1, 2, 3, 4, 5, 6]"
      ]
     },
     "execution_count": 3,
     "metadata": {},
     "output_type": "execute_result"
    }
   ],
   "source": [
    "merge_lists([1,3,5],[2,4,6])"
   ]
  },
  {
   "cell_type": "code",
   "execution_count": 203,
   "metadata": {},
   "outputs": [],
   "source": [
    "def add_one(a):\n",
    "    i = len(a) - 1\n",
    "    while i >= 0:\n",
    "        if a[i] == 9:\n",
    "            a[i] = 0\n",
    "            i = i - 1\n",
    "        else:\n",
    "            a[i] = a[i] + 1\n",
    "            return a\n",
    "    leading_one = [1]\n",
    "    leading_one.extend(a)\n",
    "    return leading_one"
   ]
  },
  {
   "cell_type": "code",
   "execution_count": 206,
   "metadata": {},
   "outputs": [
    {
     "data": {
      "text/plain": [
       "[1, 0, 0]"
      ]
     },
     "execution_count": 206,
     "metadata": {},
     "output_type": "execute_result"
    }
   ],
   "source": [
    "add_one([9,9])"
   ]
  },
  {
   "cell_type": "code",
   "execution_count": 214,
   "metadata": {},
   "outputs": [],
   "source": [
    "def get_max_range(x):\n",
    "    xmin = x[0]\n",
    "    xmax = x[0]\n",
    "    best_profit = {'delta':0}\n",
    "    for i in range(len(x)):\n",
    "        if x[i] < xmin:\n",
    "            xmin = x[i]\n",
    "            xmax = x[i]\n",
    "        if x[i] > xmax:\n",
    "            xmax = x[i]\n",
    "        if xmax - xmin > best_profit['delta']:\n",
    "            best_profit['delta'] = xmax - xmin\n",
    "            best_profit['xmin'] = xmin\n",
    "            best_profit['xmax'] = xmax\n",
    "    return best_profit"
   ]
  },
  {
   "cell_type": "code",
   "execution_count": 218,
   "metadata": {},
   "outputs": [
    {
     "data": {
      "text/plain": [
       "{'delta': 2, 'xmin': 1, 'xmax': 3}"
      ]
     },
     "execution_count": 218,
     "metadata": {},
     "output_type": "execute_result"
    }
   ],
   "source": [
    "# get_max_range([1,2,3,2,3,4,5,6,7,6,5])\n",
    "get_max_range([7,6,5,4,3,2,1,2,3,2,1,0,-1,-2])"
   ]
  },
  {
   "cell_type": "code",
   "execution_count": 229,
   "metadata": {},
   "outputs": [],
   "source": [
    "def binary_sum(s1,s2):\n",
    "    result = []\n",
    "    shift = 0\n",
    "    \n",
    "    # суммируем в столбик\n",
    "    for i in range(max(len(s1), len(s2))):\n",
    "        \n",
    "        xpos = len(s1) - i - 1\n",
    "        ypos = len(s2) - i - 1\n",
    "        print(xpos, ypos)\n",
    "        \n",
    "        # берем i-ый элмелент с конца у каждого числа, если у короткого числа такого нет, просто дополняем нулем\n",
    "        x = s1[xpos]\n",
    "        y = s2[ypos] if ypos >= 0 else 0\n",
    "        \n",
    "        # cуммируем, не забываем единичку, которая \"в уме\"\n",
    "        z = x + y + shift\n",
    "        print(x,y,z,shift)\n",
    "        \n",
    "        # если сумма за единицу не перевалила, обнуляем то, что в уме\n",
    "        if z <= 1:\n",
    "            shift = 0\n",
    "            result.insert(0, z)\n",
    "        else:\n",
    "            shift = 1\n",
    "            result.insert(0, 0)\n",
    "    \n",
    "    # после суммирования могла остаться еще единица \"в уме\", если так, выводим ее\n",
    "    if shift == 1:\n",
    "        result.insert(0, 1)\n",
    "    \n",
    "    return result"
   ]
  },
  {
   "cell_type": "code",
   "execution_count": 232,
   "metadata": {},
   "outputs": [
    {
     "name": "stdout",
     "output_type": "stream",
     "text": [
      "3 3\n",
      "0 1 1 0\n",
      "2 2\n",
      "1 1 2 0\n",
      "1 1\n",
      "0 0 1 1\n",
      "0 0\n",
      "1 1 2 0\n"
     ]
    },
    {
     "data": {
      "text/plain": [
       "[1, 0, 1, 0, 1]"
      ]
     },
     "execution_count": 232,
     "metadata": {},
     "output_type": "execute_result"
    }
   ],
   "source": [
    "binary_sum([1,0,1,0],[1,0,1,1])"
   ]
  },
  {
   "cell_type": "code",
   "execution_count": 253,
   "metadata": {},
   "outputs": [
    {
     "data": {
      "text/plain": [
       "'0b1'"
      ]
     },
     "execution_count": 253,
     "metadata": {},
     "output_type": "execute_result"
    }
   ],
   "source": [
    "x = 8\n",
    "bin(x)\n",
    "bin(x >> 3 & 1)"
   ]
  },
  {
   "cell_type": "code",
   "execution_count": 199,
   "metadata": {},
   "outputs": [
    {
     "data": {
      "text/plain": [
       "[0, 1, 2, 3]"
      ]
     },
     "execution_count": 199,
     "metadata": {},
     "output_type": "execute_result"
    }
   ],
   "source": [
    "x=[0]\n",
    "x.extend([1,2,3])\n",
    "x"
   ]
  },
  {
   "cell_type": "code",
   "execution_count": null,
   "metadata": {},
   "outputs": [],
   "source": []
  },
  {
   "cell_type": "code",
   "execution_count": 152,
   "metadata": {},
   "outputs": [
    {
     "name": "stdout",
     "output_type": "stream",
     "text": [
      "3\n",
      "4\n",
      "5\n"
     ]
    }
   ],
   "source": []
  },
  {
   "cell_type": "code",
   "execution_count": null,
   "metadata": {},
   "outputs": [],
   "source": []
  },
  {
   "cell_type": "code",
   "execution_count": null,
   "metadata": {},
   "outputs": [],
   "source": []
  }
 ],
 "metadata": {
  "kernelspec": {
   "display_name": "Python 3",
   "language": "python",
   "name": "python3"
  },
  "language_info": {
   "codemirror_mode": {
    "name": "ipython",
    "version": 3
   },
   "file_extension": ".py",
   "mimetype": "text/x-python",
   "name": "python",
   "nbconvert_exporter": "python",
   "pygments_lexer": "ipython3",
   "version": "3.7.6"
  }
 },
 "nbformat": 4,
 "nbformat_minor": 4
}
