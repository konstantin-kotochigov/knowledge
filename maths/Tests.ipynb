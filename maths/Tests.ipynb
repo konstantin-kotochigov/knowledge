{
 "cells": [
  {
   "cell_type": "code",
   "execution_count": 20,
   "metadata": {},
   "outputs": [],
   "source": [
    "import pandas as pd\n",
    "import numpy as np\n",
    "from scipy import stats\n",
    "import seaborn as sns\n",
    "from tqdm import tqdm\n",
    "%matplotlib inline  \n",
    "\n",
    "mu1, s1, n1 = 100, 5, 100\n",
    "mu2, s2, n2 = 102, 5, 100\n",
    "params = ((mu1, s1, n1), (mu2, s2, n2))\n"
   ]
  },
  {
   "cell_type": "code",
   "execution_count": null,
   "metadata": {},
   "outputs": [],
   "source": []
  },
  {
   "cell_type": "code",
   "execution_count": 36,
   "metadata": {},
   "outputs": [],
   "source": [
    "def generate_data(params, days, alpha):\n",
    "\n",
    "  df = pd.DataFrame()\n",
    "  stat_result = pd.DataFrame()\n",
    "\n",
    "  for day in range(1, days + 1):\n",
    "      \n",
    "      # Generate Data\n",
    "      df1 = pd.DataFrame({'value': np.random.normal(mu1, s1, n1)})\n",
    "      df1['date'] = day\n",
    "      df1['group'] = 'control'\n",
    "      df2 = pd.DataFrame({'value': np.random.normal(mu2, s2, n2)})\n",
    "      df2['date'] = day\n",
    "      df2['group'] = 'experiment'\n",
    "      \n",
    "      # Aggregate Data\n",
    "      df = df.append(df1).append(df2)\n",
    "      \n",
    "      # Compute Stats\n",
    "      fit = stats.ttest_ind(df[df.group == 'experiment'].value, df[df.group == 'control'].value)\n",
    "      stat_result = stat_result.append(pd.DataFrame({'t': [fit[0]], 'p': [fit[1]], 'date': current_date}))\n",
    "      \n",
    "      # Compute result\n",
    "      # current_data_stat = df.groupby(['group'], as_index=False).agg({'value': 'mean'})\n",
    "      # current_data_stat['date'] = current_date\n",
    "      # daily_data = daily_data.append(current_data_stat)\n",
    "      \n",
    "      result = (1 if fit[1] < alpha else 0, round(fit[1], 5))\n",
    "      \n",
    "      return result\n"
   ]
  },
  {
   "cell_type": "code",
   "execution_count": 37,
   "metadata": {},
   "outputs": [
    {
     "name": "stderr",
     "output_type": "stream",
     "text": [
      " 19%|█▉        | 19/100 [00:00<00:02, 39.26it/s]"
     ]
    },
    {
     "name": "stdout",
     "output_type": "stream",
     "text": [
      "(1, 0.0)\n",
      "(1, 0.0)\n",
      "(1, 0.0)\n",
      "(1, 0.0)\n",
      "(1, 0.0)\n",
      "(1, 0.0)\n",
      "(1, 0.0)\n",
      "(1, 0.0)\n",
      "(1, 0.0)\n",
      "(1, 1e-05)\n",
      "(1, 0.0)\n",
      "(1, 0.0)\n",
      "(1, 0.0)\n",
      "(1, 0.0)\n",
      "(1, 0.0)\n",
      "(1, 0.0)\n",
      "(1, 1e-05)\n",
      "(1, 0.0)\n",
      "(1, 0.0)\n",
      "(1, 0.0)\n",
      "(1, 0.0)\n",
      "(1, 0.0)\n",
      "(1, 0.0)\n",
      "(1, 0.0)\n",
      "(1, 0.0)\n",
      "(1, 0.0)\n",
      "(1, 0.0)\n",
      "(1, 0.0)\n",
      "(1, 0.0)\n",
      "(1, 0.0)\n",
      "(1, 0.0)\n",
      "(1, 0.0)\n",
      "(1, 0.0)\n",
      "(1, 0.0)\n",
      "(1, 0.0)"
     ]
    },
    {
     "name": "stderr",
     "output_type": "stream",
     "text": [
      " 50%|█████     | 50/100 [00:00<00:00, 62.85it/s]"
     ]
    },
    {
     "name": "stdout",
     "output_type": "stream",
     "text": [
      "\n",
      "(1, 0.0)\n",
      "(1, 0.0)\n",
      "(1, 0.0)\n",
      "(1, 0.0)\n",
      "(1, 0.0)\n",
      "(1, 0.0)\n",
      "(1, 0.0)\n",
      "(1, 0.0)\n",
      "(1, 0.0)\n",
      "(1, 0.0)\n",
      "(1, 0.0)\n",
      "(1, 0.0)\n",
      "(1, 0.0)\n",
      "(1, 0.0)\n",
      "(1, 0.0)\n",
      "(1, 0.0)\n",
      "(1, 0.0)\n",
      "(1, 0.0)\n",
      "(1, 0.0)\n",
      "(1, 0.0)\n",
      "(1, 0.0)\n",
      "(1, 0.0)\n",
      "(1, 0.0)\n",
      "(1, 0.0)\n",
      "(1, 0.0)\n",
      "(1, 0.0)\n",
      "(1, 0.0)\n",
      "(1, 0.0)\n",
      "(1, 0.0)\n",
      "(1, 0.0)\n",
      "(1, 0.0)"
     ]
    },
    {
     "name": "stderr",
     "output_type": "stream",
     "text": [
      " 81%|████████  | 81/100 [00:00<00:00, 89.57it/s]"
     ]
    },
    {
     "name": "stdout",
     "output_type": "stream",
     "text": [
      "\n",
      "(1, 0.0)\n",
      "(1, 0.0)\n",
      "(1, 0.0)\n",
      "(1, 1e-05)\n",
      "(1, 0.0)\n",
      "(1, 0.0)\n",
      "(1, 0.0)\n",
      "(1, 0.0)\n",
      "(1, 0.0)\n",
      "(1, 0.0)\n",
      "(1, 0.0)\n",
      "(1, 0.0)\n",
      "(1, 0.0)\n",
      "(1, 0.0)\n",
      "(1, 0.0)\n",
      "(1, 0.0)\n",
      "(1, 0.0)\n",
      "(1, 0.0)\n",
      "(1, 0.0)\n",
      "(1, 0.0)\n",
      "(1, 0.0)\n",
      "(1, 0.0)\n",
      "(1, 0.0)\n",
      "(1, 0.0)\n",
      "(1, 0.0)\n",
      "(1, 0.0)\n",
      "(1, 0.0)\n",
      "(1, 0.0)\n",
      "(1, 0.0)\n",
      "(1, 0.0)\n"
     ]
    },
    {
     "name": "stderr",
     "output_type": "stream",
     "text": [
      "100%|██████████| 100/100 [00:00<00:00, 135.70it/s]"
     ]
    },
    {
     "name": "stdout",
     "output_type": "stream",
     "text": [
      "(1, 0.0)\n",
      "(1, 0.0)\n",
      "(1, 0.0)\n",
      "(1, 0.0)\n"
     ]
    },
    {
     "name": "stderr",
     "output_type": "stream",
     "text": [
      "\n"
     ]
    }
   ],
   "source": [
    "for i in tqdm(range(100)):\n",
    "  print(generate_data(params, 20, 0.05))"
   ]
  },
  {
   "cell_type": "code",
   "execution_count": 15,
   "metadata": {},
   "outputs": [
    {
     "data": {
      "image/png": "[encoded data removed]",
      "text/plain": [
       "<Figure size 432x288 with 1 Axes>"
      ]
     },
     "metadata": {
      "needs_background": "light"
     },
     "output_type": "display_data"
    }
   ],
   "source": [
    "ax = sns.lineplot(data=daily_data, x=\"date\", y=\"value\", hue='group')\n",
    "ax.grid(alpha=0.25)"
   ]
  },
  {
   "cell_type": "code",
   "execution_count": 17,
   "metadata": {},
   "outputs": [
    {
     "data": {
      "image/png": "[encoded data removed]",
      "text/plain": [
       "<Figure size 432x288 with 1 Axes>"
      ]
     },
     "metadata": {
      "needs_background": "light"
     },
     "output_type": "display_data"
    }
   ],
   "source": [
    "ax = sns.lineplot(data=stat_result, x=\"date\", y=\"p\")\n",
    "ax.axhline(0.05, ls='--', color='red')\n",
    "ax.grid(alpha=0.25)"
   ]
  }
 ],
 "metadata": {
  "kernelspec": {
   "display_name": "Python 3",
   "language": "python",
   "name": "python3"
  },
  "language_info": {
   "codemirror_mode": {
    "name": "ipython",
    "version": 3
   },
   "file_extension": ".py",
   "mimetype": "text/x-python",
   "name": "python",
   "nbconvert_exporter": "python",
   "pygments_lexer": "ipython3",
   "version": "3.7.6"
  }
 },
 "nbformat": 4,
 "nbformat_minor": 4
}
