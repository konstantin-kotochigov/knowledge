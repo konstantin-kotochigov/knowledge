{
 "cells": [
  {
   "cell_type": "markdown",
   "metadata": {},
   "source": [
    "# A/B Testing\n",
    "\n",
    "There are lots of online calculators for A/B tests.\n",
    "\n",
    "For example this one:\n",
    "https://abtestguide.com/calc/\n",
    "\n",
    "#### Input\n",
    " - N1 (visitors in group A)\n",
    " - N2 (visitors in group B)\n",
    " - conversions 1 (number of conversions, or other successful actions)\n",
    " - conversions 2 (number of conversions, or other successful actions)\n",
    "\n",
    "Here is a typical output of the A/B test\n",
    "\n",
    "<img src =\"img/ab_test_calculator.png\" width=750>\n",
    "\n",
    "\n",
    "Let's explore it:\n",
    "- Conversion Rate = implementation of the binomial random variable divided by N  \n",
    "\n",
    "        success rate, the same scale as p and q;\n",
    "\n",
    "- Standard Error = Standard Deviaton of Conversion Rate\n",
    "\n",
    "        depends on p and N;\n",
    "        higher SD means larger difference is required to be significant\n",
    "\n",
    "- Delta = difference in binomial variables implementation\n",
    "\n",
    "        for example, 5 successful actions more in group A\n",
    "\n",
    "- Relative Uplift = normalized delta\n",
    "\n",
    "        for example, 3% more successful actions in group A\n",
    "        \n",
    "- Expectation of Delta\n",
    "\n",
    "- Standard Error = standard deviation of Average\n",
    "\n",
    "- Standard Error of difference\n",
    "\n",
    "- z-score = observed delta on a scale of its standard deviations\n",
    "\n",
    "        the more extreme delta is, the higher likelihood of signifcant differnece;\n",
    "        it is two-side Student test sstatistic\n",
    "\n",
    "- p-value - probability of observing more extreme z-score values in case of H0\n",
    "\n",
    "        must be maximum 1-5% to be negligible\n",
    "\n",
    "- \n",
    "\n"
   ]
  },
  {
   "cell_type": "code",
   "execution_count": null,
   "metadata": {},
   "outputs": [],
   "source": [
    "\n",
    "\n"
   ]
  }
 ],
 "metadata": {
  "kernelspec": {
   "display_name": "Python 3",
   "language": "python",
   "name": "python3"
  },
  "language_info": {
   "codemirror_mode": {
    "name": "ipython",
    "version": 3
   },
   "file_extension": ".py",
   "mimetype": "text/x-python",
   "name": "python",
   "nbconvert_exporter": "python",
   "pygments_lexer": "ipython3",
   "version": "3.7.6"
  }
 },
 "nbformat": 4,
 "nbformat_minor": 4
}
