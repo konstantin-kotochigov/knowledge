{
 "cells": [
  {
   "cell_type": "markdown",
   "metadata": {},
   "source": [
    "# Intro\n",
    "\n",
    "Development of any product requires a constant search for a better solution; each change is meant to make the product better.\n",
    "\n",
    "How do we know if a new feature is potentially useful apart from common reasoning? \n",
    "To some extent offline testing  helps us. Offline, also called retrospetctive, testing we don't run product in production, we mathematicallt model how change would work. \n",
    "\n",
    "Offline testing is a necessary step for any feature. But unfortunately it's very limited in its power. You simply can't model everything, you can't take every possible factor into account, such kind of prediction would be unreliable, prediction how feature would work in a new setting.\n",
    "\n",
    "That's why it's insufficient, you also need online tests - to see how it works in production.\n",
    "In software development this is called A/B testing, because you compare two alternatives A and B. In a broader sense, hypotesys testing in the design of experiment.\n",
    "\n",
    "So, the idea is simple - just run two alternatives and see wich one is better. \n",
    "\n",
    "But why dedicate a whole lecture to it? Because there are two complications to the process:\n",
    "1. you have to guarantee the same conditions for both alternatives as well target environment, otherwise your conclusion could be wrong and you would not know that it's wrong\n",
    "2. Second point is even more important - your conclusion could wrong simply by chance. This is because that we observe is probabilistic customer behavior is prone to uncertainty. So you need to somehow assess the trustworthiness of your conclusion.\n",
    "\n"
   ]
  },
  {
   "cell_type": "markdown",
   "metadata": {},
   "source": [
    "# A/B Testing\n",
    "\n",
    "There are lots of online calculators for A/B tests.\n",
    "\n",
    "For example this one:\n",
    "https://abtestguide.com/calc/\n",
    "\n",
    "#### Input\n",
    " - N1 (visitors in group A)\n",
    " - N2 (visitors in group B)\n",
    " - conversions 1 (number of conversions, or other successful actions)\n",
    " - conversions 2 (number of conversions, or other successful actions)\n",
    "\n",
    "Here is a typical output of the A/B test\n",
    "\n",
    "<img src =\"img/ab_test_calculator.png\" width=750>\n",
    "\n",
    "\n",
    "Let's explore it:\n",
    "- Conversion Rate = implementation of the binomial random variable divided by N  \n",
    "\n",
    "        success rate, the same scale as p and q;\n",
    "\n",
    "- Standard Error = Standard Deviaton of Conversion Rate\n",
    "\n",
    "        depends on p and N;\n",
    "        higher SD means larger difference is required to be significant\n",
    "\n",
    "- Delta = difference in binomial variables implementation\n",
    "\n",
    "        for example, 5 successful actions more in group A\n",
    "\n",
    "- Relative Uplift = normalized delta\n",
    "\n",
    "        for example, 3% more successful actions in group A\n",
    "        \n",
    "- Expectation of Delta\n",
    "\n",
    "- Standard Error = standard deviation of Average\n",
    "\n",
    "- Standard Error of difference\n",
    "\n",
    "- z-score = observed delta on a scale of its standard deviations\n",
    "\n",
    "        the more extreme delta is, the higher likelihood of signifcant differnece;\n",
    "        it is two-side Student test sstatistic\n",
    "\n",
    "- p-value - probability of observing more extreme z-score values in case of H0\n",
    "\n",
    "        must be maximum 1-5% to be negligible\n",
    "\n",
    "- \n",
    "\n"
   ]
  },
  {
   "cell_type": "code",
   "execution_count": null,
   "metadata": {},
   "outputs": [],
   "source": []
  }
 ],
 "metadata": {
  "kernelspec": {
   "display_name": "Python 3",
   "language": "python",
   "name": "python3"
  },
  "language_info": {
   "codemirror_mode": {
    "name": "ipython",
    "version": 3
   },
   "file_extension": ".py",
   "mimetype": "text/x-python",
   "name": "python",
   "nbconvert_exporter": "python",
   "pygments_lexer": "ipython3",
   "version": "3.7.6"
  }
 },
 "nbformat": 4,
 "nbformat_minor": 4
}
