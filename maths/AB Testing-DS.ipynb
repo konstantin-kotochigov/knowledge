{
 "cells": [
  {
   "cell_type": "markdown",
   "metadata": {},
   "source": [
    "### Mathematics of A/B testing\n",
    "\n",
    "A/B tests can be used to compare any metrics: \n",
    "- time spent on a web page\n",
    "- click-rate for an advertisment\n",
    "\n",
    "There is only one requirement - to construct the right test statistic we need to know distribution of the metric. \n",
    "\n",
    "One of the most popular cases - comparing the number of successful events. In this case metric is distributed according to binomial distribution: $B(n,p)$"
   ]
  },
  {
   "cell_type": "markdown",
   "metadata": {},
   "source": [
    "#### Bernoulli distribution\n",
    "\n",
    "Bernoulli trial is a binary random variable that yeilds \"1\" (success) with probability $p$ and \"0\" (failure) with probability $1-p$.\n",
    "\n",
    "As any proper random variable, it has its own:\n",
    "1. Expectation \n",
    "   \n",
    "   $E [\\xi] = p$\n",
    "   \n",
    "   \n",
    "2. Variance\n",
    "\n",
    "    $V[\\xi] = \\sigma_{\\xi}^2 = p(1-p)$\n",
    "\n",
    "To illustrate these values just sample from Bernoulli distribution n times. \n",
    "\n",
    "On average it will yeild 1 in $p$ of the times and its variance.\n",
    "\n",
    "Notice that $V[\\xi]$:\n",
    "1. Depends on $p$. Closer $p$ is to 0 or 1, the less variance we observe. The most \"variable\" case is when $p = 0.5$. In that case variance equals 1/4.\n",
    "2. It depends quadratically\n",
    "\n",
    "<img src=\"img/variance.png\" width=350>"
   ]
  },
  {
   "cell_type": "markdown",
   "metadata": {},
   "source": [
    "#### Binomial distribution\n",
    "\n",
    "When we repeated sampling n times we constructed a series of Bernoulli trials which is a base for another relevant distribution - Binomial.\n",
    "\n",
    "Binomial random variable represents a sum of series of independent Bernoulli trials. \n",
    "\n",
    "$$\\xi = \\xi_1 + \\xi_2 + \\dots \\xi_n$$\n",
    "\n",
    "The number of succeses in a series of $n$ trials is distributed according to binomial distirbution with parameter $p$.\n",
    "\n",
    "Expected number of successes is:\n",
    "\n",
    "$$E[\\xi] = \\sum_i \\xi_i = \\sum_i p = np$$\n",
    "\n",
    "Variance of the successes is:\n",
    "\n",
    "$$V[\\xi] = \\sum V[\\xi_i] = \\sum p(1-p) = np(1-p)$$\n",
    "\n"
   ]
  },
  {
   "cell_type": "markdown",
   "metadata": {},
   "source": [
    "#### 2. One-sample Srtudent test\n",
    "\n",
    "Let's consider a toy case. We what to hypitesis that  to predefined constant.\n",
    "\n",
    "#### Two-samples Student test\n",
    "\n",
    "Suppose there are two samples A and B - they represent alternative scenarios that are being compared. Observed success counts are $X_A$ and $X_B$ respectively.\n",
    "\n",
    "Observed deviance $X_A - X_B$ is not necessary the result of the systematic differences in scenarios. It may be attributed to high variance in our Binomial trials as well. The goal of Student T-test is to tell whether it is the first or the second case.\n",
    "\n",
    "In order to assess the signfcaince of the difference we need to explore $X_\\Delta = X_A - X_b$.\n",
    "\n",
    "Under $H_0$ $X_\\Delta$ is a random variable. If we know its distribution, we can easily calculate the p-value of it.\n",
    "\n",
    "$$E[X_\\Delta] = E[X_A] - E[X_B] = 0 - 0 = 0$$\n",
    "\n",
    "$$V[X_\\Delta] = $$\n",
    "\n",
    "$$\\sigma = \\sqrt{\\frac{\\sigma_{\\xi_1}}{n_1} + \\frac{\\sigma_{\\xi_2}}{n_2}}$$\n",
    "\n",
    "$$ t = \\frac{X_\\Delta - E[X_\\Delta]}{\\sigma_{\\Delta}} = \\frac{X_{\\Delta}}{\\sqrt{\\frac{\\sigma_{\\xi_1}}{n_1} + \\frac{\\sigma_{\\xi_2}}{n_2}}}$$\n",
    "\n",
    "Generally Student test requires <u>normal</u> distribution of analyzed samples. For example, when we compare page loading times for 2 apge versions. \n",
    "\n",
    "There is however relaxation when distributions are only approximately normal (like binomial distributions with satisfactory sample sizes). It's called Welsch test.\n",
    "https://en.wikipedia.org/wiki/Welch%27s_t-test\n"
   ]
  },
  {
   "cell_type": "code",
   "execution_count": null,
   "metadata": {},
   "outputs": [],
   "source": []
  },
  {
   "cell_type": "code",
   "execution_count": null,
   "metadata": {},
   "outputs": [],
   "source": [
    "\n",
    "\n"
   ]
  }
 ],
 "metadata": {
  "kernelspec": {
   "display_name": "Python 3",
   "language": "python",
   "name": "python3"
  },
  "language_info": {
   "codemirror_mode": {
    "name": "ipython",
    "version": 3
   },
   "file_extension": ".py",
   "mimetype": "text/x-python",
   "name": "python",
   "nbconvert_exporter": "python",
   "pygments_lexer": "ipython3",
   "version": "3.7.6"
  }
 },
 "nbformat": 4,
 "nbformat_minor": 4
}
