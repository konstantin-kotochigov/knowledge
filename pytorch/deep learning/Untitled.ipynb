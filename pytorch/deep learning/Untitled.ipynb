{
 "cells": [
  {
   "cell_type": "markdown",
   "metadata": {},
   "source": [
    "__Theorem__ Kolmogorov (1957)<br>\n",
    "For any set of continuous functions ${\\phi_1 .. \\phi_d}$ a multiparameter function $f \\in R^d$ can be decomposed into a sum of univariate functions:\n",
    "$$f(x_1, x_2 ... x_n) = \\sum_{j=1}^{2d+1} h_j \\bigg( \\sum_i^d \\phi_{ij}(x_i) \\bigg)$$\n",
    "\n",
    "<img src=\"img/kolmogorov_network.png\" width=450>"
   ]
  }
 ],
 "metadata": {
  "kernelspec": {
   "display_name": "Python 3",
   "language": "python",
   "name": "python3"
  },
  "language_info": {
   "codemirror_mode": {
    "name": "ipython",
    "version": 3
   },
   "file_extension": ".py",
   "mimetype": "text/x-python",
   "name": "python",
   "nbconvert_exporter": "python",
   "pygments_lexer": "ipython3",
   "version": "3.7.6"
  }
 },
 "nbformat": 4,
 "nbformat_minor": 4
}
