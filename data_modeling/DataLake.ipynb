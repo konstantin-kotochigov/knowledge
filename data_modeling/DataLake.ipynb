{
 "cells": [
  {
   "cell_type": "markdown",
   "metadata": {},
   "source": [
    "Data Lake is about storing raw data along with structured data\n",
    "\n",
    "Concept is related to ELT concept - we first ingest and only after that start transforming it\n",
    "\n",
    "Layers in DL model:\n",
    "- Data Ingestion - staging area for recent data snapshot\n",
    "- Trusted - Detail Data Store\n",
    "- Refined - Data Marts\n",
    "- Sandbox - \n",
    "- Data Governance - metadata storage\n",
    "[what's its value - an API for business layer?]\n",
    "\n",
    "DL as well as DWH is not a model or a system of rules. It is just a description of a simple architectural pattern. Many businesses are using it having no idea it is data lake or datawarehouse. It's hard to effectively implement it the other way actually\n",
    "\n",
    "<img src=\"./img/datalake_sheme.png\" width=750>"
   ]
  }
 ],
 "metadata": {
  "kernelspec": {
   "display_name": "Python 3",
   "language": "python",
   "name": "python3"
  },
  "language_info": {
   "codemirror_mode": {
    "name": "ipython",
    "version": 3
   },
   "file_extension": ".py",
   "mimetype": "text/x-python",
   "name": "python",
   "nbconvert_exporter": "python",
   "pygments_lexer": "ipython3",
   "version": "3.7.6"
  }
 },
 "nbformat": 4,
 "nbformat_minor": 4
}
