{
 "cells": [
  {
   "cell_type": "code",
   "execution_count": 1,
   "metadata": {},
   "outputs": [
    {
     "ename": "ModuleNotFoundError",
     "evalue": "No module named 'psycopg2'",
     "output_type": "error",
     "traceback": [
      "\u001b[0;31m---------------------------------------------------------------------------\u001b[0m",
      "\u001b[0;31mModuleNotFoundError\u001b[0m                       Traceback (most recent call last)",
      "\u001b[0;32m<ipython-input-1-5b40423e63e2>\u001b[0m in \u001b[0;36m<module>\u001b[0;34m\u001b[0m\n\u001b[0;32m----> 1\u001b[0;31m \u001b[0;32mimport\u001b[0m \u001b[0mpsycopg2\u001b[0m\u001b[0;34m\u001b[0m\u001b[0;34m\u001b[0m\u001b[0m\n\u001b[0m\u001b[1;32m      2\u001b[0m \u001b[0;34m\u001b[0m\u001b[0m\n\u001b[1;32m      3\u001b[0m conn = psycopg2.connect(\"\"\"\n\u001b[1;32m      4\u001b[0m     \u001b[0mhost\u001b[0m\u001b[0;34m=\u001b[0m\u001b[0mc\u001b[0m\u001b[0;34m-\u001b[0m\u001b[0;34m<\u001b[0m\u001b[0mидентификатор\u001b[0m \u001b[0mкластера\u001b[0m\u001b[0;34m>\u001b[0m\u001b[0;34m.\u001b[0m\u001b[0mrw\u001b[0m\u001b[0;34m.\u001b[0m\u001b[0mmdb\u001b[0m\u001b[0;34m.\u001b[0m\u001b[0myandexcloud\u001b[0m\u001b[0;34m.\u001b[0m\u001b[0mnet\u001b[0m\u001b[0;34m\u001b[0m\u001b[0;34m\u001b[0m\u001b[0m\n\u001b[1;32m      5\u001b[0m     \u001b[0mport\u001b[0m\u001b[0;34m=\u001b[0m\u001b[0;36m6432\u001b[0m\u001b[0;34m\u001b[0m\u001b[0;34m\u001b[0m\u001b[0m\n",
      "\u001b[0;31mModuleNotFoundError\u001b[0m: No module named 'psycopg2'"
     ]
    }
   ],
   "source": [
    "import psycopg2\n",
    "\n",
    "conn = psycopg2.connect(\"\"\"\n",
    "    host=c-rc1b-gv91wtbai2a22y09.mdb.yandexcloud.net.rw.mdb.yandexcloud.net\n",
    "    port=6432\n",
    "    sslmode=verify-full\n",
    "    dbname=\"tutorial_db\"\n",
    "    user=\"user\"\n",
    "    password=\"tulup111\"\n",
    "    target_session_attrs=read-write\n",
    "\"\"\")\n",
    "\n",
    "q = conn.cursor()\n",
    "q.execute('SELECT version()')\n",
    "\n",
    "print(q.fetchone())\n",
    "\n",
    "conn.close()"
   ]
  },
  {
   "cell_type": "code",
   "execution_count": 2,
   "metadata": {},
   "outputs": [
    {
     "name": "stdout",
     "output_type": "stream",
     "text": [
      "Collecting psycopg2\n",
      "  Downloading psycopg2-2.9.7.tar.gz (383 kB)\n",
      "\u001b[K     |████████████████████████████████| 383 kB 2.8 MB/s eta 0:00:01\n",
      "\u001b[31m    ERROR: Command errored out with exit status 1:\n",
      "     command: /Users/konstantin/opt/anaconda3/bin/python -c 'import sys, setuptools, tokenize; sys.argv[0] = '\"'\"'/private/var/folders/5w/8klkr2ds68bc0kx8c5_z01t80000gn/T/pip-install-koqg4u5d/psycopg2/setup.py'\"'\"'; __file__='\"'\"'/private/var/folders/5w/8klkr2ds68bc0kx8c5_z01t80000gn/T/pip-install-koqg4u5d/psycopg2/setup.py'\"'\"';f=getattr(tokenize, '\"'\"'open'\"'\"', open)(__file__);code=f.read().replace('\"'\"'\\r\\n'\"'\"', '\"'\"'\\n'\"'\"');f.close();exec(compile(code, __file__, '\"'\"'exec'\"'\"'))' egg_info --egg-base /private/var/folders/5w/8klkr2ds68bc0kx8c5_z01t80000gn/T/pip-install-koqg4u5d/psycopg2/pip-egg-info\n",
      "         cwd: /private/var/folders/5w/8klkr2ds68bc0kx8c5_z01t80000gn/T/pip-install-koqg4u5d/psycopg2/\n",
      "    Complete output (23 lines):\n",
      "    running egg_info\n",
      "    creating /private/var/folders/5w/8klkr2ds68bc0kx8c5_z01t80000gn/T/pip-install-koqg4u5d/psycopg2/pip-egg-info/psycopg2.egg-info\n",
      "    writing /private/var/folders/5w/8klkr2ds68bc0kx8c5_z01t80000gn/T/pip-install-koqg4u5d/psycopg2/pip-egg-info/psycopg2.egg-info/PKG-INFO\n",
      "    writing dependency_links to /private/var/folders/5w/8klkr2ds68bc0kx8c5_z01t80000gn/T/pip-install-koqg4u5d/psycopg2/pip-egg-info/psycopg2.egg-info/dependency_links.txt\n",
      "    writing top-level names to /private/var/folders/5w/8klkr2ds68bc0kx8c5_z01t80000gn/T/pip-install-koqg4u5d/psycopg2/pip-egg-info/psycopg2.egg-info/top_level.txt\n",
      "    writing manifest file '/private/var/folders/5w/8klkr2ds68bc0kx8c5_z01t80000gn/T/pip-install-koqg4u5d/psycopg2/pip-egg-info/psycopg2.egg-info/SOURCES.txt'\n",
      "    \n",
      "    Error: pg_config executable not found.\n",
      "    \n",
      "    pg_config is required to build psycopg2 from source.  Please add the directory\n",
      "    containing pg_config to the $PATH or specify the full executable path with the\n",
      "    option:\n",
      "    \n",
      "        python setup.py build_ext --pg-config /path/to/pg_config build ...\n",
      "    \n",
      "    or with the pg_config option in 'setup.cfg'.\n",
      "    \n",
      "    If you prefer to avoid building psycopg2 from source, please install the PyPI\n",
      "    'psycopg2-binary' package instead.\n",
      "    \n",
      "    For further information please check the 'doc/src/install.rst' file (also at\n",
      "    <https://www.psycopg.org/docs/install.html>).\n",
      "    \n",
      "    ----------------------------------------\u001b[0m\n",
      "\u001b[31mERROR: Command errored out with exit status 1: python setup.py egg_info Check the logs for full command output.\u001b[0m\n",
      "\u001b[?25h"
     ]
    }
   ],
   "source": [
    "!pip install psycopg2"
   ]
  }
 ],
 "metadata": {
  "kernelspec": {
   "display_name": "Python 3",
   "language": "python",
   "name": "python3"
  }
 },
 "nbformat": 4,
 "nbformat_minor": 4
}
