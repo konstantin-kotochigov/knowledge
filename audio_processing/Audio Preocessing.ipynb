{
 "cells": [
  {
   "cell_type": "code",
   "execution_count": null,
   "metadata": {},
   "outputs": [],
   "source": []
  },
  {
   "cell_type": "markdown",
   "metadata": {},
   "source": [
    "Signal in time-domain\n",
    "\n",
    "Signal in frequency-domain\n",
    "\n",
    "Signal spectrum is a spectral representation"
   ]
  },
  {
   "cell_type": "markdown",
   "metadata": {},
   "source": [
    "## Fourier transform\n",
    "\n",
    "Really cool exaplanation of the concept\n",
    "https://www.youtube.com/watch?v=spUNpyF58BY\n",
    "\n",
    "There are a bit confusing complex exponents and intergral in the formula, but they are meant to implement quite a straightforward idea.\n"
   ]
  },
  {
   "cell_type": "code",
   "execution_count": null,
   "metadata": {},
   "outputs": [],
   "source": []
  },
  {
   "cell_type": "markdown",
   "metadata": {
    "ExecuteTime": {
     "end_time": "2021-01-29T11:09:06.076058Z",
     "start_time": "2021-01-29T11:09:06.072951Z"
    }
   },
   "source": [
    "## Samlping Theorem\n",
    "\n",
    "If a function contains no frequency higher than H, the original signal can be perfectly reconstructed from a sample with sampling rate of 1/2H"
   ]
  },
  {
   "cell_type": "markdown",
   "metadata": {},
   "source": [
    "Minimum sampling rate to be able to reconstruct continuous signal without loss is twice as maximum frequency in signal spectrum"
   ]
  },
  {
   "cell_type": "markdown",
   "metadata": {
    "ExecuteTime": {
     "end_time": "2021-01-29T11:12:52.793691Z",
     "start_time": "2021-01-29T11:12:52.790575Z"
    }
   },
   "source": [
    "Nice visualization from Quora:\n",
    "<img src=\"shannon.jpeg\" width=450>"
   ]
  }
 ],
 "metadata": {
  "kernelspec": {
   "display_name": "Python 3",
   "language": "python",
   "name": "python3"
  },
  "language_info": {
   "codemirror_mode": {
    "name": "ipython",
    "version": 3
   },
   "file_extension": ".py",
   "mimetype": "text/x-python",
   "name": "python",
   "nbconvert_exporter": "python",
   "pygments_lexer": "ipython3",
   "version": "3.7.6"
  },
  "varInspector": {
   "cols": {
    "lenName": 16,
    "lenType": 16,
    "lenVar": 40
   },
   "kernels_config": {
    "python": {
     "delete_cmd_postfix": "",
     "delete_cmd_prefix": "del ",
     "library": "var_list.py",
     "varRefreshCmd": "print(var_dic_list())"
    },
    "r": {
     "delete_cmd_postfix": ") ",
     "delete_cmd_prefix": "rm(",
     "library": "var_list.r",
     "varRefreshCmd": "cat(var_dic_list()) "
    }
   },
   "types_to_exclude": [
    "module",
    "function",
    "builtin_function_or_method",
    "instance",
    "_Feature"
   ],
   "window_display": false
  }
 },
 "nbformat": 4,
 "nbformat_minor": 4
}
