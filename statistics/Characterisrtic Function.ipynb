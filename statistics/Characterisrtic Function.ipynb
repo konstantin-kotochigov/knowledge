{
 "cells": [
  {
   "cell_type": "markdown",
   "metadata": {},
   "source": [
    "# Characterisrtic Function\n",
    "\n",
    "Suppose we have PDF $f_{\\zeta}(x)$ for some variable $\\zeta$<br>\n",
    "We can construct version of this function called characteristic function\n",
    "\n",
    "$$\\phi(t) = E[e^{i t \\zeta}] = \\int_{-\\inf}^{\\inf} e^{itX} f(X) dx$$\n",
    "\n",
    "Based on the definition it is just a __Fourrier transform__ of a PDF function<br>\n",
    "\n",
    "\n",
    "<div align=\"center\">\n",
    "\n",
    "sdfsdfasfas\n",
    "\n",
    "</div>\n",
    "\n",
    "## Fourrier Transform\n",
    "\n",
    "Recall that Fourrier transform maps any function $f$ to its unique counterpart $\\varphi$ in complex domain by cointegratring it with sigmoids $e^{-itx}$ of each frequency $t$. It acts as a mapper from time domain $x$ to frequency domain $t$\n",
    "\n",
    "The result of complex integration looks like:\n",
    "\n",
    "$$\\varphi(t) = \\bigg[\\int f(x) \\cos(tx) \\,dx;  - \\int f(x) \\sin(tx) \\,dx\\bigg]$$\n",
    "\n",
    "This value encodes two pieces of information:\n",
    "- magnitude of the frequency\n",
    "- phase information\n",
    "    - high __Real__ part = captured an even component\n",
    "    - high __Imaginary__ part = captured an odd component\n",
    "\n",
    "\n",
    "\n",
    "### Usage\n",
    "\n",
    "Often used to prove convergence<br>\n",
    "For example, __CLT:__ the sum of standardized i.i.d random variables converges to N(0,1)\n",
    "\n",
    "\n",
    "### Moments generation\n",
    "\n",
    "\n",
    "All distribution moments can be calculated as derivatives of $\\phi(t)$<br>$\\frac{\\partial \\varphi}{\\partial}$<br><br>\n",
    "\n",
    "### Properties\n",
    "Since there is exponent inside the integral sum of the argmunets change to mulitplication<br> $\\varphi(X+Y) = \\varphi(X) \\cdot \\varphi(Y)$\n"
   ]
  },
  {
   "cell_type": "markdown",
   "metadata": {},
   "source": [
    "<div align=\"center\">\n",
    "\n",
    "sdfsdfasfas\n",
    "\n",
    "</div>"
   ]
  }
 ],
 "metadata": {
  "kernelspec": {
   "display_name": "Python 3",
   "language": "python",
   "name": "python3"
  },
  "language_info": {
   "codemirror_mode": {
    "name": "ipython",
    "version": 3
   },
   "file_extension": ".py",
   "mimetype": "text/x-python",
   "name": "python",
   "nbconvert_exporter": "python",
   "pygments_lexer": "ipython3",
   "version": "3.7.6"
  }
 },
 "nbformat": 4,
 "nbformat_minor": 4
}
