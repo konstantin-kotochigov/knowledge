{
 "cells": [
  {
   "cell_type": "markdown",
   "metadata": {},
   "source": [
    "# Conjugate priors\n",
    "\n",
    "Решается задача статистики = оценить параметр распределения $\\theta$ по наблюдаемым данным $X$.\n",
    "\n",
    "В рамках Байесовского подхода это делается итеративно - приходят новые наблюдения, обновляем вероятности параметра\n",
    "\n",
    "$$P(\\theta|x) = \\frac{P(x|\\theta) P(\\theta)}{P(x)} = \\frac{\\text{Likelihood} \\times \\text{Prior}}{\\text{Marginal}}$$\n",
    "\n",
    "$P(\\theta)$ = bayesian prior, aka текущее накопленное знание\n",
    "\n",
    "Форму прайора можно выбритать любой, НО если моделировать его распределением похожим по форме на Likelihood, то оно<br> 1) не будет терять форму после обновления<br> 2) довольно легко обновляется\n",
    "\n",
    "Для многих популярных распределений (в основном потому что они похожи) есть такой формат prior-а. Если мы согласовали Prior, тогда такое распрделеение называется Conjugate distribution (или сопряженным).\n",
    "\n",
    "Это свойство легко проиллюстрировать<br>\n",
    "1.Берем Likelihood распределения Бернулли:\n",
    "$$P(x|p) = p^{S}(1-p)^{N-S}$$\n",
    "2.Берем Prior в виде Beta распределения:\n",
    "$$P(p) = p^{\\alpha-1}(1-p)^{\\beta-1}$$\n",
    "\n",
    "Перемножаем, получаем Beta распредeление\n",
    "$$P(p|x) = \\frac{p^{[S + \\alpha - 1]}(1-p)^{[\\beta + N - S - 1]}}{P(x)}$$\n",
    "\n",
    "Список сопряженных распределений\n",
    "1. Beta for modeling frequencies (Bernoulli, Binomial, Negative Binomial, Geometric)\n",
    "2. Gamma for modeling rates (Poisson, Exponential)\n",
    "3. Dirichlet for modeling Probability vectors that sum to one (Categorical, Multinomial)\n",
    "4. Normal for modeling normal means"
   ]
  }
 ],
 "metadata": {
  "kernelspec": {
   "display_name": "Python 3",
   "language": "python",
   "name": "python3"
  },
  "language_info": {
   "codemirror_mode": {
    "name": "ipython",
    "version": 3
   },
   "file_extension": ".py",
   "mimetype": "text/x-python",
   "name": "python",
   "nbconvert_exporter": "python",
   "pygments_lexer": "ipython3",
   "version": "3.7.6"
  }
 },
 "nbformat": 4,
 "nbformat_minor": 4
}
