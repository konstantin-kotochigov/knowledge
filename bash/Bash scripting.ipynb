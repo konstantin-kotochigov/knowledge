{
 "cells": [
  {
   "cell_type": "code",
   "execution_count": null,
   "metadata": {
    "ExecuteTime": {
     "end_time": "2021-02-01T06:14:17.359826Z",
     "start_time": "2021-02-01T06:14:17.354609Z"
    }
   },
   "outputs": [],
   "source": [
    "crontab -e\n",
    "\n",
    "### Schedule\n",
    "\n",
    "# Add a command to run\n",
    "\n",
    "python /home/user/script.py\n",
    "\n",
    "# Redirect output to log file\n",
    "python /home/user/script.py > log.txt\n",
    "\n",
    "# Redirect output to log file (in append mode)\n",
    "python /home/user/script.py >> log.txt\n",
    "\n",
    "# Redirect stdout and stderr to different files\n",
    "python /home/user/script.py 1> log.txt 2> error.txt\n",
    "\n",
    "# Redirect stdout and stderr to the same file\n",
    "python /home/user/script.py > log.txt\n"
   ]
  },
  {
   "cell_type": "code",
   "execution_count": null,
   "metadata": {},
   "outputs": [],
   "source": [
    "# Generate a keypair\n",
    "ssh-keygen\n",
    "\n",
    "# Send public key to server\n",
    "ssh-copy\n",
    "\n",
    "\n",
    "# Configure SSH connections\n",
    "Convenient when multiple keys are used\n",
    "\n",
    "# Add SSH configuration\n",
    "nano ~/.ssh/config\n",
    "\n",
    "# Configuration example\n",
    "Host <name>\n",
    "  Hostname <server_host>\n",
    "  User <login>\n",
    "  IdentityFile <private key full path>\n",
    "  LocalForward <from_port> localhost:<to_port>"
   ]
  },
  {
   "cell_type": "code",
   "execution_count": null,
   "metadata": {},
   "outputs": [],
   "source": [
    "nano ~/.bashrc\n",
    "\n",
    "alias ll='ls -alF'"
   ]
  },
  {
   "cell_type": "code",
   "execution_count": null,
   "metadata": {},
   "outputs": [],
   "source": [
    "# Become root user\n",
    "sudo su\n",
    "\n",
    "# Become any user\n",
    "sudo su - <username>\n",
    "\n",
    "# See your groups\n",
    "groups\n",
    "\n",
    "# See groups of a user\n",
    "sudo groups <username>\n",
    "\n",
    "# Add user to sudoers\n",
    "sudo usermod -aG sudo <username>"
   ]
  },
  {
   "cell_type": "code",
   "execution_count": null,
   "metadata": {},
   "outputs": [],
   "source": []
  },
  {
   "cell_type": "code",
   "execution_count": null,
   "metadata": {},
   "outputs": [],
   "source": []
  },
  {
   "cell_type": "code",
   "execution_count": null,
   "metadata": {},
   "outputs": [],
   "source": [
    "### Scheduling\n",
    "\n"
   ]
  }
 ],
 "metadata": {
  "kernelspec": {
   "display_name": "Python 3",
   "language": "python",
   "name": "python3"
  },
  "language_info": {
   "codemirror_mode": {
    "name": "ipython",
    "version": 3
   },
   "file_extension": ".py",
   "mimetype": "text/x-python",
   "name": "python",
   "nbconvert_exporter": "python",
   "pygments_lexer": "ipython3",
   "version": "3.7.6"
  },
  "varInspector": {
   "cols": {
    "lenName": 16,
    "lenType": 16,
    "lenVar": 40
   },
   "kernels_config": {
    "python": {
     "delete_cmd_postfix": "",
     "delete_cmd_prefix": "del ",
     "library": "var_list.py",
     "varRefreshCmd": "print(var_dic_list())"
    },
    "r": {
     "delete_cmd_postfix": ") ",
     "delete_cmd_prefix": "rm(",
     "library": "var_list.r",
     "varRefreshCmd": "cat(var_dic_list()) "
    }
   },
   "types_to_exclude": [
    "module",
    "function",
    "builtin_function_or_method",
    "instance",
    "_Feature"
   ],
   "window_display": false
  }
 },
 "nbformat": 4,
 "nbformat_minor": 4
}
