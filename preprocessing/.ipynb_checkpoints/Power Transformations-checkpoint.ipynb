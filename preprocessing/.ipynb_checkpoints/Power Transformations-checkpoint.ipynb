{
 "cells": [
  {
   "cell_type": "markdown",
   "metadata": {},
   "source": [
    "Nonlinear transformations are important part of feature preprocessing, expecially when features in a dataset have skewed distributions.\n",
    "\n",
    "**Power transformations** are non-linear feature transformations that include raising to power.\n",
    "\n",
    "Such transformations could be both expanding (removing left skewness) if power > 1 or collapsing (adding left skewness), if power < 1.\n",
    "\n",
    "#### Box-Cox transformations\n",
    "\n",
    "Box-Cox transformations (1964) is a parametrized family transformations. Parameter $\\lambda$ controls the level of \"expansion\".\n",
    "\n",
    "<img src=\"img/boxcox_1.svg\" width=200>\n",
    "\n",
    "- $\\lambda > 1$ - \"expanding\" transformation\n",
    "- $\\lambda = 1$ - linear transformation\n",
    "- $\\lambda < 1$ - \"collapsing\" transformation\n",
    "- $\\lambda \\rightarrow 0$ - we switch to logarithmic class of transformation\n",
    "- $\\lambda < 0$ - \"collapsing\" transformation\n",
    "\n",
    "Examples for 3 $\\lambda$ values:\n",
    "\n",
    "<img src=\"img/boxcox_3.png\" width=600>\n",
    "\n",
    "Why power transformation converges to logarithmic transformation when we move through $\\lambda = 0$? To see it let's decompose the function into Taylor series:\n",
    "<img src=\"img/boxcox_4.jpg\" width=500>\n",
    "\n",
    "##### How to choose $\\lambda$?\n",
    "Usually $\\lambda$ parameter is chosen that the response best fits the normal distribution.\n",
    "\n",
    "So it's a maximum likelihood estimate.\n",
    "\n",
    "##### Two parameter version\n",
    "There is also a two parameter version of the transformation - here the second parameter (shift) is added.\n",
    "\n",
    "<img src=\"img/boxcox_2.svg\" width=250>\n",
    "\n",
    "##### Modern version\n",
    "\n",
    "To be able to compare values among different lambdas we need to add a normalizer that restricts the variance to be the same:\n",
    "\n",
    "<img src=\"img/power_transform_1.svg\" width=250>\n",
    "\n",
    "and such normalizer is a geometric mean of values\n",
    "\n",
    "<img src=\"img/power_transform_2.svg\" width=250>\n",
    "\n",
    "### Yeo-Johnson transformations\n",
    "Yeo-Johnson transformations (2000) is a modern modification that allows transformation to be applied to negative values.\n",
    "\n",
    "<img src=\"img/yeojohnson_1.svg\" width=500>\n",
    "\n"
   ]
  },
  {
   "cell_type": "markdown",
   "metadata": {},
   "source": [
    "### Sklearn implementation\n",
    "\n",
    "sklearn.preprocessing.PowerTransfromer\n",
    "\n",
    "There are two methods to choose from:\n",
    "- Box-Cox transformation\n",
    "- Yeo-Johnson transfortmation\n",
    "\n",
    "Parameters cannot be controled, they are chosen as maximum likelihood estimates.\n"
   ]
  }
 ],
 "metadata": {
  "kernelspec": {
   "display_name": "Python 3",
   "language": "python",
   "name": "python3"
  },
  "language_info": {
   "codemirror_mode": {
    "name": "ipython",
    "version": 3
   },
   "file_extension": ".py",
   "mimetype": "text/x-python",
   "name": "python",
   "nbconvert_exporter": "python",
   "pygments_lexer": "ipython3",
   "version": "3.7.6"
  },
  "varInspector": {
   "cols": {
    "lenName": 16,
    "lenType": 16,
    "lenVar": 40
   },
   "kernels_config": {
    "python": {
     "delete_cmd_postfix": "",
     "delete_cmd_prefix": "del ",
     "library": "var_list.py",
     "varRefreshCmd": "print(var_dic_list())"
    },
    "r": {
     "delete_cmd_postfix": ") ",
     "delete_cmd_prefix": "rm(",
     "library": "var_list.r",
     "varRefreshCmd": "cat(var_dic_list()) "
    }
   },
   "types_to_exclude": [
    "module",
    "function",
    "builtin_function_or_method",
    "instance",
    "_Feature"
   ],
   "window_display": false
  }
 },
 "nbformat": 4,
 "nbformat_minor": 4
}
