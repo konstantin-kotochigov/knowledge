{
 "cells": [
  {
   "cell_type": "markdown",
   "metadata": {},
   "source": [
    "# Graph Applications"
   ]
  },
  {
   "cell_type": "markdown",
   "metadata": {},
   "source": [
    "### Credit Card Application Fraud Detection\n",
    "С помощью поддельных документов или путем завладения акаунтом подают заявку на новую кредитку.\n",
    "\n",
    "Подход: смотрят общие признаки. Например, если заявка на карту идет с того же телефонного номера, что использовался в заявке пранее прищнаной мошеннической => эта заявка скорее всего тоже мошенническая (а мошенник туповат).\n",
    "\n",
    "Здесь, например, с каждой заявкой связано несколько атрибутов и у обоих заявок одинаковый SSN:\n",
    "\n",
    "<img src=\"img/fraud_detection.png\" width=350>\n",
    "\n",
    "Алгоритм:\n",
    "1. Из исторических данных по заявкам достают заявку и ее параметры (номер паспорта заявителя, телефон,  e-mail и прочее).\n",
    "2. Строят граф.\n",
    "3. Выделяют связанные компоненты - подграфы, в которых есть хотя бы что-то общее между несколькими заявками.\n",
    "4. Считают долю общих\n",
    "5. Строят модель (например, логрегрессия)\n",
    "6. Выделяют подозрительные подграфы"
   ]
  },
  {
   "cell_type": "markdown",
   "metadata": {},
   "source": [
    "Подозрительными могут быть просто наличие связей:\n",
    "- Same phone number\n",
    "- Same IP address\n",
    "- Different Locations\n",
    "\n"
   ]
  },
  {
   "cell_type": "markdown",
   "metadata": {},
   "source": [
    "### Cookie - MAID correspondence\n",
    "\n",
    "**Input:** a matching table, that connects web cookie with mobile identifier (MAID).\n",
    "\n",
    "It is a many-to-many relationsip: \n",
    "1. each MAID can be associated with multiple cookies \n",
    "2. each cookie can be associated with multiple MAIDs\n",
    "\n",
    "|Cookie|MAID|\n",
    "|---|---|\n",
    "|c1|m1|\n",
    "|c1|m2|\n",
    "|c2|m2|\n",
    "|c3|m2|\n",
    "\n",
    "**Task:** aggregate cookies and MAIDs into groups that correspond to the same household.\n",
    "\n",
    "**Solution:** determine all connected components in a graph and label each component with separate ID.\n",
    "\n"
   ]
  },
  {
   "cell_type": "markdown",
   "metadata": {},
   "source": [
    "### Approximate Nearest Neighbor\n",
    "\n",
    "Task: find a nearest neighbor\n",
    "Small-world"
   ]
  },
  {
   "cell_type": "code",
   "execution_count": null,
   "metadata": {},
   "outputs": [],
   "source": [
    "№№"
   ]
  }
 ],
 "metadata": {
  "kernelspec": {
   "display_name": "Python 3",
   "language": "python",
   "name": "python3"
  },
  "language_info": {
   "codemirror_mode": {
    "name": "ipython",
    "version": 3
   },
   "file_extension": ".py",
   "mimetype": "text/x-python",
   "name": "python",
   "nbconvert_exporter": "python",
   "pygments_lexer": "ipython3",
   "version": "3.7.6"
  },
  "varInspector": {
   "cols": {
    "lenName": 16,
    "lenType": 16,
    "lenVar": 40
   },
   "kernels_config": {
    "python": {
     "delete_cmd_postfix": "",
     "delete_cmd_prefix": "del ",
     "library": "var_list.py",
     "varRefreshCmd": "print(var_dic_list())"
    },
    "r": {
     "delete_cmd_postfix": ") ",
     "delete_cmd_prefix": "rm(",
     "library": "var_list.r",
     "varRefreshCmd": "cat(var_dic_list()) "
    }
   },
   "types_to_exclude": [
    "module",
    "function",
    "builtin_function_or_method",
    "instance",
    "_Feature"
   ],
   "window_display": false
  }
 },
 "nbformat": 4,
 "nbformat_minor": 4
}
